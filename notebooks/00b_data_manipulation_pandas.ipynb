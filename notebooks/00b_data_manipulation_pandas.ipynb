{
 "cells": [
  {
   "cell_type": "markdown",
   "metadata": {},
   "source": [
    "# Pandas Review\n",
    "\n",
    "Pandas is an open source, BSD-licensed library providing high-performance, easy-to-use data structures and data analysis tools for the Python programming language.\n",
    "\n",
    "You can find it here: http://pandas.pydata.org/\n",
    "\n",
    "And the documentation can be found here: http://pandas.pydata.org/pandas-docs/stable/\n",
    "\n",
    "In this notebook we review some of its functionality."
   ]
  },
  {
   "cell_type": "code",
   "execution_count": 1,
   "metadata": {
    "collapsed": true
   },
   "outputs": [],
   "source": [
    "import pandas as pd\n",
    "import numpy as np"
   ]
  },
  {
   "cell_type": "markdown",
   "metadata": {},
   "source": [
    "## Create random data\n",
    "\n",
    "Create a dataframe with four features (columns), \"A\",\"B\",\"C\". The corresponding values could be (homoegeneous or heterogeneous) arrays, scalars, strings, missing values (NaN), etc.  \n",
    "Indexing of the records (rows) is automatic (starting from 0). "
   ]
  },
  {
   "cell_type": "code",
   "execution_count": 2,
   "metadata": {
    "collapsed": false
   },
   "outputs": [],
   "source": [
    "df=pd.DataFrame({'A':np.array([1,7,2,-2],dtype='int32'),\n",
    "                'B':1,\n",
    "                'C':['pippo']*4,\n",
    "                'D':np.array([0.5,'pluto',np.nan,np.nan])})"
   ]
  },
  {
   "cell_type": "markdown",
   "metadata": {},
   "source": [
    "Now inspect the dataframe a little bit"
   ]
  },
  {
   "cell_type": "code",
   "execution_count": 176,
   "metadata": {
    "collapsed": false
   },
   "outputs": [
    {
     "data": {
      "text/html": [
       "<div>\n",
       "<table border=\"1\" class=\"dataframe\">\n",
       "  <thead>\n",
       "    <tr style=\"text-align: right;\">\n",
       "      <th></th>\n",
       "      <th>A</th>\n",
       "      <th>B</th>\n",
       "      <th>C</th>\n",
       "      <th>D</th>\n",
       "    </tr>\n",
       "  </thead>\n",
       "  <tbody>\n",
       "    <tr>\n",
       "      <th>0</th>\n",
       "      <td>1</td>\n",
       "      <td>1</td>\n",
       "      <td>pippo</td>\n",
       "      <td>0.5</td>\n",
       "    </tr>\n",
       "    <tr>\n",
       "      <th>1</th>\n",
       "      <td>7</td>\n",
       "      <td>1</td>\n",
       "      <td>pippo</td>\n",
       "      <td>pluto</td>\n",
       "    </tr>\n",
       "    <tr>\n",
       "      <th>2</th>\n",
       "      <td>2</td>\n",
       "      <td>1</td>\n",
       "      <td>pippo</td>\n",
       "      <td>nan</td>\n",
       "    </tr>\n",
       "  </tbody>\n",
       "</table>\n",
       "</div>"
      ],
      "text/plain": [
       "   A  B      C      D\n",
       "0  1  1  pippo    0.5\n",
       "1  7  1  pippo  pluto\n",
       "2  2  1  pippo    nan"
      ]
     },
     "execution_count": 176,
     "metadata": {},
     "output_type": "execute_result"
    }
   ],
   "source": [
    "df.head(3)"
   ]
  },
  {
   "cell_type": "code",
   "execution_count": 177,
   "metadata": {
    "collapsed": false
   },
   "outputs": [
    {
     "data": {
      "text/plain": [
       "RangeIndex(start=0, stop=4, step=1)"
      ]
     },
     "execution_count": 177,
     "metadata": {},
     "output_type": "execute_result"
    }
   ],
   "source": [
    "df.index"
   ]
  },
  {
   "cell_type": "code",
   "execution_count": 178,
   "metadata": {
    "collapsed": false
   },
   "outputs": [
    {
     "data": {
      "text/plain": [
       "Index([u'A', u'B', u'C', u'D'], dtype='object')"
      ]
     },
     "execution_count": 178,
     "metadata": {},
     "output_type": "execute_result"
    }
   ],
   "source": [
    "df.columns"
   ]
  },
  {
   "cell_type": "code",
   "execution_count": 179,
   "metadata": {
    "collapsed": false
   },
   "outputs": [
    {
     "data": {
      "text/plain": [
       "array([[1, 1, 'pippo', '0.5'],\n",
       "       [7, 1, 'pippo', 'pluto'],\n",
       "       [2, 1, 'pippo', 'nan'],\n",
       "       [-2, 1, 'pippo', 'nan']], dtype=object)"
      ]
     },
     "execution_count": 179,
     "metadata": {},
     "output_type": "execute_result"
    }
   ],
   "source": [
    "df.values"
   ]
  },
  {
   "cell_type": "markdown",
   "metadata": {},
   "source": [
    "Try some operations"
   ]
  },
  {
   "cell_type": "code",
   "execution_count": 180,
   "metadata": {
    "collapsed": false
   },
   "outputs": [
    {
     "data": {
      "text/html": [
       "<div>\n",
       "<table border=\"1\" class=\"dataframe\">\n",
       "  <thead>\n",
       "    <tr style=\"text-align: right;\">\n",
       "      <th></th>\n",
       "      <th>0</th>\n",
       "      <th>1</th>\n",
       "      <th>2</th>\n",
       "      <th>3</th>\n",
       "    </tr>\n",
       "  </thead>\n",
       "  <tbody>\n",
       "    <tr>\n",
       "      <th>A</th>\n",
       "      <td>1</td>\n",
       "      <td>7</td>\n",
       "      <td>2</td>\n",
       "      <td>-2</td>\n",
       "    </tr>\n",
       "    <tr>\n",
       "      <th>B</th>\n",
       "      <td>1</td>\n",
       "      <td>1</td>\n",
       "      <td>1</td>\n",
       "      <td>1</td>\n",
       "    </tr>\n",
       "    <tr>\n",
       "      <th>C</th>\n",
       "      <td>pippo</td>\n",
       "      <td>pippo</td>\n",
       "      <td>pippo</td>\n",
       "      <td>pippo</td>\n",
       "    </tr>\n",
       "    <tr>\n",
       "      <th>D</th>\n",
       "      <td>0.5</td>\n",
       "      <td>pluto</td>\n",
       "      <td>nan</td>\n",
       "      <td>nan</td>\n",
       "    </tr>\n",
       "  </tbody>\n",
       "</table>\n",
       "</div>"
      ],
      "text/plain": [
       "       0      1      2      3\n",
       "A      1      7      2     -2\n",
       "B      1      1      1      1\n",
       "C  pippo  pippo  pippo  pippo\n",
       "D    0.5  pluto    nan    nan"
      ]
     },
     "execution_count": 180,
     "metadata": {},
     "output_type": "execute_result"
    }
   ],
   "source": [
    "df.T"
   ]
  },
  {
   "cell_type": "code",
   "execution_count": 181,
   "metadata": {
    "collapsed": false
   },
   "outputs": [
    {
     "data": {
      "text/html": [
       "<div>\n",
       "<table border=\"1\" class=\"dataframe\">\n",
       "  <thead>\n",
       "    <tr style=\"text-align: right;\">\n",
       "      <th></th>\n",
       "      <th>A</th>\n",
       "      <th>B</th>\n",
       "      <th>C</th>\n",
       "      <th>D</th>\n",
       "    </tr>\n",
       "  </thead>\n",
       "  <tbody>\n",
       "    <tr>\n",
       "      <th>3</th>\n",
       "      <td>-2</td>\n",
       "      <td>1</td>\n",
       "      <td>pippo</td>\n",
       "      <td>nan</td>\n",
       "    </tr>\n",
       "    <tr>\n",
       "      <th>2</th>\n",
       "      <td>2</td>\n",
       "      <td>1</td>\n",
       "      <td>pippo</td>\n",
       "      <td>nan</td>\n",
       "    </tr>\n",
       "    <tr>\n",
       "      <th>1</th>\n",
       "      <td>7</td>\n",
       "      <td>1</td>\n",
       "      <td>pippo</td>\n",
       "      <td>pluto</td>\n",
       "    </tr>\n",
       "    <tr>\n",
       "      <th>0</th>\n",
       "      <td>1</td>\n",
       "      <td>1</td>\n",
       "      <td>pippo</td>\n",
       "      <td>0.5</td>\n",
       "    </tr>\n",
       "  </tbody>\n",
       "</table>\n",
       "</div>"
      ],
      "text/plain": [
       "   A  B      C      D\n",
       "3 -2  1  pippo    nan\n",
       "2  2  1  pippo    nan\n",
       "1  7  1  pippo  pluto\n",
       "0  1  1  pippo    0.5"
      ]
     },
     "execution_count": 181,
     "metadata": {},
     "output_type": "execute_result"
    }
   ],
   "source": [
    "df.sort_index(axis=0,ascending=False)"
   ]
  },
  {
   "cell_type": "code",
   "execution_count": 182,
   "metadata": {
    "collapsed": false
   },
   "outputs": [
    {
     "data": {
      "text/html": [
       "<div>\n",
       "<table border=\"1\" class=\"dataframe\">\n",
       "  <thead>\n",
       "    <tr style=\"text-align: right;\">\n",
       "      <th></th>\n",
       "      <th>A</th>\n",
       "      <th>B</th>\n",
       "      <th>C</th>\n",
       "      <th>D</th>\n",
       "    </tr>\n",
       "  </thead>\n",
       "  <tbody>\n",
       "    <tr>\n",
       "      <th>3</th>\n",
       "      <td>-2</td>\n",
       "      <td>1</td>\n",
       "      <td>pippo</td>\n",
       "      <td>nan</td>\n",
       "    </tr>\n",
       "    <tr>\n",
       "      <th>0</th>\n",
       "      <td>1</td>\n",
       "      <td>1</td>\n",
       "      <td>pippo</td>\n",
       "      <td>0.5</td>\n",
       "    </tr>\n",
       "    <tr>\n",
       "      <th>2</th>\n",
       "      <td>2</td>\n",
       "      <td>1</td>\n",
       "      <td>pippo</td>\n",
       "      <td>nan</td>\n",
       "    </tr>\n",
       "    <tr>\n",
       "      <th>1</th>\n",
       "      <td>7</td>\n",
       "      <td>1</td>\n",
       "      <td>pippo</td>\n",
       "      <td>pluto</td>\n",
       "    </tr>\n",
       "  </tbody>\n",
       "</table>\n",
       "</div>"
      ],
      "text/plain": [
       "   A  B      C      D\n",
       "3 -2  1  pippo    nan\n",
       "0  1  1  pippo    0.5\n",
       "2  2  1  pippo    nan\n",
       "1  7  1  pippo  pluto"
      ]
     },
     "execution_count": 182,
     "metadata": {},
     "output_type": "execute_result"
    }
   ],
   "source": [
    "df.sort_values(by='A')"
   ]
  },
  {
   "cell_type": "markdown",
   "metadata": {},
   "source": [
    "## Create and modify a  data frame\n",
    "Now create a dataframe with with the dates (time series) as index and a corresponding 7x2 (7 records with 2 features) matrix of random numbers. The 2 features are \"\n",
    "Temperature\" and \"Humidity\""
   ]
  },
  {
   "cell_type": "code",
   "execution_count": 183,
   "metadata": {
    "collapsed": false
   },
   "outputs": [
    {
     "data": {
      "text/plain": [
       "DatetimeIndex(['2017-01-01', '2017-01-02', '2017-01-03', '2017-01-04',\n",
       "               '2017-01-05', '2017-01-06', '2017-01-07'],\n",
       "              dtype='datetime64[ns]', freq='D')"
      ]
     },
     "execution_count": 183,
     "metadata": {},
     "output_type": "execute_result"
    }
   ],
   "source": [
    "dates=pd.date_range('20170101', periods=7, freq='D')\n",
    "dates"
   ]
  },
  {
   "cell_type": "code",
   "execution_count": 184,
   "metadata": {
    "collapsed": false
   },
   "outputs": [
    {
     "data": {
      "text/html": [
       "<div>\n",
       "<table border=\"1\" class=\"dataframe\">\n",
       "  <thead>\n",
       "    <tr style=\"text-align: right;\">\n",
       "      <th></th>\n",
       "      <th>Temperature</th>\n",
       "      <th>Humidity</th>\n",
       "    </tr>\n",
       "  </thead>\n",
       "  <tbody>\n",
       "    <tr>\n",
       "      <th>2017-01-01</th>\n",
       "      <td>0.930918</td>\n",
       "      <td>0.472227</td>\n",
       "    </tr>\n",
       "    <tr>\n",
       "      <th>2017-01-02</th>\n",
       "      <td>0.164269</td>\n",
       "      <td>0.957238</td>\n",
       "    </tr>\n",
       "    <tr>\n",
       "      <th>2017-01-03</th>\n",
       "      <td>0.511884</td>\n",
       "      <td>0.737296</td>\n",
       "    </tr>\n",
       "    <tr>\n",
       "      <th>2017-01-04</th>\n",
       "      <td>0.809257</td>\n",
       "      <td>0.194414</td>\n",
       "    </tr>\n",
       "    <tr>\n",
       "      <th>2017-01-05</th>\n",
       "      <td>0.726388</td>\n",
       "      <td>0.481966</td>\n",
       "    </tr>\n",
       "    <tr>\n",
       "      <th>2017-01-06</th>\n",
       "      <td>0.638924</td>\n",
       "      <td>0.990898</td>\n",
       "    </tr>\n",
       "    <tr>\n",
       "      <th>2017-01-07</th>\n",
       "      <td>0.136966</td>\n",
       "      <td>0.263734</td>\n",
       "    </tr>\n",
       "  </tbody>\n",
       "</table>\n",
       "</div>"
      ],
      "text/plain": [
       "            Temperature  Humidity\n",
       "2017-01-01     0.930918  0.472227\n",
       "2017-01-02     0.164269  0.957238\n",
       "2017-01-03     0.511884  0.737296\n",
       "2017-01-04     0.809257  0.194414\n",
       "2017-01-05     0.726388  0.481966\n",
       "2017-01-06     0.638924  0.990898\n",
       "2017-01-07     0.136966  0.263734"
      ]
     },
     "execution_count": 184,
     "metadata": {},
     "output_type": "execute_result"
    }
   ],
   "source": [
    "df = pd.DataFrame(np.random.rand(7,2), index=dates, columns=['Temperature','Humidity'])\n",
    "df"
   ]
  },
  {
   "cell_type": "markdown",
   "metadata": {},
   "source": [
    "Add a column with power consumption in kWh "
   ]
  },
  {
   "cell_type": "code",
   "execution_count": 185,
   "metadata": {
    "collapsed": false
   },
   "outputs": [
    {
     "data": {
      "text/html": [
       "<div>\n",
       "<table border=\"1\" class=\"dataframe\">\n",
       "  <thead>\n",
       "    <tr style=\"text-align: right;\">\n",
       "      <th></th>\n",
       "      <th>Temperature</th>\n",
       "      <th>Humidity</th>\n",
       "      <th>Power Consumption</th>\n",
       "    </tr>\n",
       "  </thead>\n",
       "  <tbody>\n",
       "    <tr>\n",
       "      <th>2017-01-01</th>\n",
       "      <td>0.930918</td>\n",
       "      <td>0.472227</td>\n",
       "      <td>7.584585</td>\n",
       "    </tr>\n",
       "    <tr>\n",
       "      <th>2017-01-02</th>\n",
       "      <td>0.164269</td>\n",
       "      <td>0.957238</td>\n",
       "      <td>7.920211</td>\n",
       "    </tr>\n",
       "    <tr>\n",
       "      <th>2017-01-03</th>\n",
       "      <td>0.511884</td>\n",
       "      <td>0.737296</td>\n",
       "      <td>8.215903</td>\n",
       "    </tr>\n",
       "    <tr>\n",
       "      <th>2017-01-04</th>\n",
       "      <td>0.809257</td>\n",
       "      <td>0.194414</td>\n",
       "      <td>8.297823</td>\n",
       "    </tr>\n",
       "    <tr>\n",
       "      <th>2017-01-05</th>\n",
       "      <td>0.726388</td>\n",
       "      <td>0.481966</td>\n",
       "      <td>8.238150</td>\n",
       "    </tr>\n",
       "    <tr>\n",
       "      <th>2017-01-06</th>\n",
       "      <td>0.638924</td>\n",
       "      <td>0.990898</td>\n",
       "      <td>7.589648</td>\n",
       "    </tr>\n",
       "    <tr>\n",
       "      <th>2017-01-07</th>\n",
       "      <td>0.136966</td>\n",
       "      <td>0.263734</td>\n",
       "      <td>7.590019</td>\n",
       "    </tr>\n",
       "  </tbody>\n",
       "</table>\n",
       "</div>"
      ],
      "text/plain": [
       "            Temperature  Humidity  Power Consumption\n",
       "2017-01-01     0.930918  0.472227           7.584585\n",
       "2017-01-02     0.164269  0.957238           7.920211\n",
       "2017-01-03     0.511884  0.737296           8.215903\n",
       "2017-01-04     0.809257  0.194414           8.297823\n",
       "2017-01-05     0.726388  0.481966           8.238150\n",
       "2017-01-06     0.638924  0.990898           7.589648\n",
       "2017-01-07     0.136966  0.263734           7.590019"
      ]
     },
     "execution_count": 185,
     "metadata": {},
     "output_type": "execute_result"
    }
   ],
   "source": [
    "df['Power Consumption']=np.random.rand(7,1)+7.4\n",
    "df"
   ]
  },
  {
   "cell_type": "markdown",
   "metadata": {},
   "source": [
    "Modify the temperature to have a reasonable value for the season"
   ]
  },
  {
   "cell_type": "code",
   "execution_count": 186,
   "metadata": {
    "collapsed": false
   },
   "outputs": [
    {
     "data": {
      "text/html": [
       "<div>\n",
       "<table border=\"1\" class=\"dataframe\">\n",
       "  <thead>\n",
       "    <tr style=\"text-align: right;\">\n",
       "      <th></th>\n",
       "      <th>Temperature</th>\n",
       "      <th>Humidity</th>\n",
       "      <th>Power Consumption</th>\n",
       "    </tr>\n",
       "  </thead>\n",
       "  <tbody>\n",
       "    <tr>\n",
       "      <th>2017-01-01</th>\n",
       "      <td>6</td>\n",
       "      <td>0.472227</td>\n",
       "      <td>7.584585</td>\n",
       "    </tr>\n",
       "    <tr>\n",
       "      <th>2017-01-02</th>\n",
       "      <td>9</td>\n",
       "      <td>0.957238</td>\n",
       "      <td>7.920211</td>\n",
       "    </tr>\n",
       "    <tr>\n",
       "      <th>2017-01-03</th>\n",
       "      <td>6</td>\n",
       "      <td>0.737296</td>\n",
       "      <td>8.215903</td>\n",
       "    </tr>\n",
       "    <tr>\n",
       "      <th>2017-01-04</th>\n",
       "      <td>8</td>\n",
       "      <td>0.194414</td>\n",
       "      <td>8.297823</td>\n",
       "    </tr>\n",
       "    <tr>\n",
       "      <th>2017-01-05</th>\n",
       "      <td>6</td>\n",
       "      <td>0.481966</td>\n",
       "      <td>8.238150</td>\n",
       "    </tr>\n",
       "    <tr>\n",
       "      <th>2017-01-06</th>\n",
       "      <td>3</td>\n",
       "      <td>0.990898</td>\n",
       "      <td>7.589648</td>\n",
       "    </tr>\n",
       "    <tr>\n",
       "      <th>2017-01-07</th>\n",
       "      <td>3</td>\n",
       "      <td>0.263734</td>\n",
       "      <td>7.590019</td>\n",
       "    </tr>\n",
       "  </tbody>\n",
       "</table>\n",
       "</div>"
      ],
      "text/plain": [
       "            Temperature  Humidity  Power Consumption\n",
       "2017-01-01            6  0.472227           7.584585\n",
       "2017-01-02            9  0.957238           7.920211\n",
       "2017-01-03            6  0.737296           8.215903\n",
       "2017-01-04            8  0.194414           8.297823\n",
       "2017-01-05            6  0.481966           8.238150\n",
       "2017-01-06            3  0.990898           7.589648\n",
       "2017-01-07            3  0.263734           7.590019"
      ]
     },
     "execution_count": 186,
     "metadata": {},
     "output_type": "execute_result"
    }
   ],
   "source": [
    "df['Temperature']=np.random.randint(2,high=12, size=(7))\n",
    "df"
   ]
  },
  {
   "cell_type": "markdown",
   "metadata": {},
   "source": [
    "Add a bogus feature and then remove it"
   ]
  },
  {
   "cell_type": "code",
   "execution_count": 187,
   "metadata": {
    "collapsed": false
   },
   "outputs": [
    {
     "data": {
      "text/html": [
       "<div>\n",
       "<table border=\"1\" class=\"dataframe\">\n",
       "  <thead>\n",
       "    <tr style=\"text-align: right;\">\n",
       "      <th></th>\n",
       "      <th>Temperature</th>\n",
       "      <th>Humidity</th>\n",
       "      <th>Power Consumption</th>\n",
       "      <th>bogus</th>\n",
       "    </tr>\n",
       "  </thead>\n",
       "  <tbody>\n",
       "    <tr>\n",
       "      <th>2017-01-01</th>\n",
       "      <td>6</td>\n",
       "      <td>0.472227</td>\n",
       "      <td>7.584585</td>\n",
       "      <td>NaN</td>\n",
       "    </tr>\n",
       "    <tr>\n",
       "      <th>2017-01-02</th>\n",
       "      <td>9</td>\n",
       "      <td>0.957238</td>\n",
       "      <td>7.920211</td>\n",
       "      <td>NaN</td>\n",
       "    </tr>\n",
       "    <tr>\n",
       "      <th>2017-01-03</th>\n",
       "      <td>6</td>\n",
       "      <td>0.737296</td>\n",
       "      <td>8.215903</td>\n",
       "      <td>NaN</td>\n",
       "    </tr>\n",
       "    <tr>\n",
       "      <th>2017-01-04</th>\n",
       "      <td>8</td>\n",
       "      <td>0.194414</td>\n",
       "      <td>8.297823</td>\n",
       "      <td>NaN</td>\n",
       "    </tr>\n",
       "    <tr>\n",
       "      <th>2017-01-05</th>\n",
       "      <td>6</td>\n",
       "      <td>0.481966</td>\n",
       "      <td>8.238150</td>\n",
       "      <td>NaN</td>\n",
       "    </tr>\n",
       "    <tr>\n",
       "      <th>2017-01-06</th>\n",
       "      <td>3</td>\n",
       "      <td>0.990898</td>\n",
       "      <td>7.589648</td>\n",
       "      <td>NaN</td>\n",
       "    </tr>\n",
       "    <tr>\n",
       "      <th>2017-01-07</th>\n",
       "      <td>3</td>\n",
       "      <td>0.263734</td>\n",
       "      <td>7.590019</td>\n",
       "      <td>NaN</td>\n",
       "    </tr>\n",
       "  </tbody>\n",
       "</table>\n",
       "</div>"
      ],
      "text/plain": [
       "            Temperature  Humidity  Power Consumption  bogus\n",
       "2017-01-01            6  0.472227           7.584585    NaN\n",
       "2017-01-02            9  0.957238           7.920211    NaN\n",
       "2017-01-03            6  0.737296           8.215903    NaN\n",
       "2017-01-04            8  0.194414           8.297823    NaN\n",
       "2017-01-05            6  0.481966           8.238150    NaN\n",
       "2017-01-06            3  0.990898           7.589648    NaN\n",
       "2017-01-07            3  0.263734           7.590019    NaN"
      ]
     },
     "execution_count": 187,
     "metadata": {},
     "output_type": "execute_result"
    }
   ],
   "source": [
    "df['bogus']=np.nan\n",
    "df"
   ]
  },
  {
   "cell_type": "code",
   "execution_count": 188,
   "metadata": {
    "collapsed": false
   },
   "outputs": [
    {
     "data": {
      "text/html": [
       "<div>\n",
       "<table border=\"1\" class=\"dataframe\">\n",
       "  <thead>\n",
       "    <tr style=\"text-align: right;\">\n",
       "      <th></th>\n",
       "      <th>Temperature</th>\n",
       "      <th>Humidity</th>\n",
       "      <th>Power Consumption</th>\n",
       "    </tr>\n",
       "  </thead>\n",
       "  <tbody>\n",
       "    <tr>\n",
       "      <th>2017-01-01</th>\n",
       "      <td>6</td>\n",
       "      <td>0.472227</td>\n",
       "      <td>7.584585</td>\n",
       "    </tr>\n",
       "    <tr>\n",
       "      <th>2017-01-02</th>\n",
       "      <td>9</td>\n",
       "      <td>0.957238</td>\n",
       "      <td>7.920211</td>\n",
       "    </tr>\n",
       "    <tr>\n",
       "      <th>2017-01-03</th>\n",
       "      <td>6</td>\n",
       "      <td>0.737296</td>\n",
       "      <td>8.215903</td>\n",
       "    </tr>\n",
       "    <tr>\n",
       "      <th>2017-01-04</th>\n",
       "      <td>8</td>\n",
       "      <td>0.194414</td>\n",
       "      <td>8.297823</td>\n",
       "    </tr>\n",
       "    <tr>\n",
       "      <th>2017-01-05</th>\n",
       "      <td>6</td>\n",
       "      <td>0.481966</td>\n",
       "      <td>8.238150</td>\n",
       "    </tr>\n",
       "  </tbody>\n",
       "</table>\n",
       "</div>"
      ],
      "text/plain": [
       "            Temperature  Humidity  Power Consumption\n",
       "2017-01-01            6  0.472227           7.584585\n",
       "2017-01-02            9  0.957238           7.920211\n",
       "2017-01-03            6  0.737296           8.215903\n",
       "2017-01-04            8  0.194414           8.297823\n",
       "2017-01-05            6  0.481966           8.238150"
      ]
     },
     "execution_count": 188,
     "metadata": {},
     "output_type": "execute_result"
    }
   ],
   "source": [
    "df=df.drop(['bogus'],axis=1)\n",
    "df.head()"
   ]
  },
  {
   "cell_type": "markdown",
   "metadata": {},
   "source": [
    "## Indexing\n",
    "\n",
    "Try to figure out what each of the following indexing method does.\n",
    "\n",
    "If in trouble check here: http://pandas.pydata.org/pandas-docs/stable/indexing.html\n",
    "\n",
    "Let's open a file with data about weight and height of a sample of men and women"
   ]
  },
  {
   "cell_type": "markdown",
   "metadata": {},
   "source": [
    "## Getting \n",
    "Select a column (feature) by feature's name "
   ]
  },
  {
   "cell_type": "code",
   "execution_count": 189,
   "metadata": {
    "collapsed": false
   },
   "outputs": [
    {
     "data": {
      "text/plain": [
       "2017-01-01    6\n",
       "2017-01-02    9\n",
       "2017-01-03    6\n",
       "2017-01-04    8\n",
       "2017-01-05    6\n",
       "2017-01-06    3\n",
       "2017-01-07    3\n",
       "Freq: D, Name: Temperature, dtype: int64"
      ]
     },
     "execution_count": 189,
     "metadata": {},
     "output_type": "execute_result"
    }
   ],
   "source": [
    "df['Temperature'] # same as df.Temperature which is however sometimes impractical"
   ]
  },
  {
   "cell_type": "code",
   "execution_count": 190,
   "metadata": {
    "collapsed": false
   },
   "outputs": [
    {
     "data": {
      "text/html": [
       "<div>\n",
       "<table border=\"1\" class=\"dataframe\">\n",
       "  <thead>\n",
       "    <tr style=\"text-align: right;\">\n",
       "      <th></th>\n",
       "      <th>Temperature</th>\n",
       "      <th>Humidity</th>\n",
       "    </tr>\n",
       "  </thead>\n",
       "  <tbody>\n",
       "    <tr>\n",
       "      <th>2017-01-01</th>\n",
       "      <td>6</td>\n",
       "      <td>0.472227</td>\n",
       "    </tr>\n",
       "    <tr>\n",
       "      <th>2017-01-02</th>\n",
       "      <td>9</td>\n",
       "      <td>0.957238</td>\n",
       "    </tr>\n",
       "    <tr>\n",
       "      <th>2017-01-03</th>\n",
       "      <td>6</td>\n",
       "      <td>0.737296</td>\n",
       "    </tr>\n",
       "    <tr>\n",
       "      <th>2017-01-04</th>\n",
       "      <td>8</td>\n",
       "      <td>0.194414</td>\n",
       "    </tr>\n",
       "    <tr>\n",
       "      <th>2017-01-05</th>\n",
       "      <td>6</td>\n",
       "      <td>0.481966</td>\n",
       "    </tr>\n",
       "    <tr>\n",
       "      <th>2017-01-06</th>\n",
       "      <td>3</td>\n",
       "      <td>0.990898</td>\n",
       "    </tr>\n",
       "    <tr>\n",
       "      <th>2017-01-07</th>\n",
       "      <td>3</td>\n",
       "      <td>0.263734</td>\n",
       "    </tr>\n",
       "  </tbody>\n",
       "</table>\n",
       "</div>"
      ],
      "text/plain": [
       "            Temperature  Humidity\n",
       "2017-01-01            6  0.472227\n",
       "2017-01-02            9  0.957238\n",
       "2017-01-03            6  0.737296\n",
       "2017-01-04            8  0.194414\n",
       "2017-01-05            6  0.481966\n",
       "2017-01-06            3  0.990898\n",
       "2017-01-07            3  0.263734"
      ]
     },
     "execution_count": 190,
     "metadata": {},
     "output_type": "execute_result"
    }
   ],
   "source": [
    "df[['Temperature','Humidity']]"
   ]
  },
  {
   "cell_type": "markdown",
   "metadata": {},
   "source": [
    "Select rows by indeces"
   ]
  },
  {
   "cell_type": "code",
   "execution_count": 191,
   "metadata": {
    "collapsed": false
   },
   "outputs": [
    {
     "data": {
      "text/html": [
       "<div>\n",
       "<table border=\"1\" class=\"dataframe\">\n",
       "  <thead>\n",
       "    <tr style=\"text-align: right;\">\n",
       "      <th></th>\n",
       "      <th>Temperature</th>\n",
       "      <th>Humidity</th>\n",
       "      <th>Power Consumption</th>\n",
       "    </tr>\n",
       "  </thead>\n",
       "  <tbody>\n",
       "    <tr>\n",
       "      <th>2017-01-01</th>\n",
       "      <td>6</td>\n",
       "      <td>0.472227</td>\n",
       "      <td>7.584585</td>\n",
       "    </tr>\n",
       "    <tr>\n",
       "      <th>2017-01-02</th>\n",
       "      <td>9</td>\n",
       "      <td>0.957238</td>\n",
       "      <td>7.920211</td>\n",
       "    </tr>\n",
       "  </tbody>\n",
       "</table>\n",
       "</div>"
      ],
      "text/plain": [
       "            Temperature  Humidity  Power Consumption\n",
       "2017-01-01            6  0.472227           7.584585\n",
       "2017-01-02            9  0.957238           7.920211"
      ]
     },
     "execution_count": 191,
     "metadata": {},
     "output_type": "execute_result"
    }
   ],
   "source": [
    "df[0:2]"
   ]
  },
  {
   "cell_type": "markdown",
   "metadata": {},
   "source": [
    "Getting a cross section of the table by label"
   ]
  },
  {
   "cell_type": "code",
   "execution_count": 192,
   "metadata": {
    "collapsed": false
   },
   "outputs": [
    {
     "data": {
      "text/plain": [
       "Temperature          6.000000\n",
       "Humidity             0.472227\n",
       "Power Consumption    7.584585\n",
       "Name: 2017-01-01 00:00:00, dtype: float64"
      ]
     },
     "execution_count": 192,
     "metadata": {},
     "output_type": "execute_result"
    }
   ],
   "source": [
    "df.loc[dates[0]]\n",
    "#df.loc[:,['Humidity','Power Consumption']]\n",
    "#df.loc['20170102',['Humidity','Temperature']]"
   ]
  },
  {
   "cell_type": "markdown",
   "metadata": {},
   "source": [
    "Selection by Position"
   ]
  },
  {
   "cell_type": "code",
   "execution_count": 193,
   "metadata": {
    "collapsed": false
   },
   "outputs": [
    {
     "data": {
      "text/plain": [
       "Temperature          8.000000\n",
       "Humidity             0.194414\n",
       "Power Consumption    8.297823\n",
       "Name: 2017-01-04 00:00:00, dtype: float64"
      ]
     },
     "execution_count": 193,
     "metadata": {},
     "output_type": "execute_result"
    }
   ],
   "source": [
    "df.iloc[3]\n",
    "#df.ix[0]"
   ]
  },
  {
   "cell_type": "code",
   "execution_count": 194,
   "metadata": {
    "collapsed": false
   },
   "outputs": [
    {
     "data": {
      "text/html": [
       "<div>\n",
       "<table border=\"1\" class=\"dataframe\">\n",
       "  <thead>\n",
       "    <tr style=\"text-align: right;\">\n",
       "      <th></th>\n",
       "      <th>Humidity</th>\n",
       "      <th>Power Consumption</th>\n",
       "    </tr>\n",
       "  </thead>\n",
       "  <tbody>\n",
       "    <tr>\n",
       "      <th>2017-01-03</th>\n",
       "      <td>0.737296</td>\n",
       "      <td>8.215903</td>\n",
       "    </tr>\n",
       "    <tr>\n",
       "      <th>2017-01-04</th>\n",
       "      <td>0.194414</td>\n",
       "      <td>8.297823</td>\n",
       "    </tr>\n",
       "  </tbody>\n",
       "</table>\n",
       "</div>"
      ],
      "text/plain": [
       "            Humidity  Power Consumption\n",
       "2017-01-03  0.737296           8.215903\n",
       "2017-01-04  0.194414           8.297823"
      ]
     },
     "execution_count": 194,
     "metadata": {},
     "output_type": "execute_result"
    }
   ],
   "source": [
    "df.iloc[2:4,1:3]"
   ]
  },
  {
   "cell_type": "markdown",
   "metadata": {},
   "source": [
    "Boolean selection"
   ]
  },
  {
   "cell_type": "code",
   "execution_count": 195,
   "metadata": {
    "collapsed": false
   },
   "outputs": [
    {
     "data": {
      "text/html": [
       "<div>\n",
       "<table border=\"1\" class=\"dataframe\">\n",
       "  <thead>\n",
       "    <tr style=\"text-align: right;\">\n",
       "      <th></th>\n",
       "      <th>Temperature</th>\n",
       "      <th>Humidity</th>\n",
       "      <th>Power Consumption</th>\n",
       "    </tr>\n",
       "  </thead>\n",
       "  <tbody>\n",
       "    <tr>\n",
       "      <th>2017-01-02</th>\n",
       "      <td>9</td>\n",
       "      <td>0.957238</td>\n",
       "      <td>7.920211</td>\n",
       "    </tr>\n",
       "    <tr>\n",
       "      <th>2017-01-04</th>\n",
       "      <td>8</td>\n",
       "      <td>0.194414</td>\n",
       "      <td>8.297823</td>\n",
       "    </tr>\n",
       "  </tbody>\n",
       "</table>\n",
       "</div>"
      ],
      "text/plain": [
       "            Temperature  Humidity  Power Consumption\n",
       "2017-01-02            9  0.957238           7.920211\n",
       "2017-01-04            8  0.194414           8.297823"
      ]
     },
     "execution_count": 195,
     "metadata": {},
     "output_type": "execute_result"
    }
   ],
   "source": [
    "df[df['Temperature'] >= 7 ]"
   ]
  },
  {
   "cell_type": "code",
   "execution_count": 196,
   "metadata": {
    "collapsed": false
   },
   "outputs": [
    {
     "data": {
      "text/html": [
       "<div>\n",
       "<table border=\"1\" class=\"dataframe\">\n",
       "  <thead>\n",
       "    <tr style=\"text-align: right;\">\n",
       "      <th></th>\n",
       "      <th>Temperature</th>\n",
       "      <th>Humidity</th>\n",
       "      <th>Power Consumption</th>\n",
       "    </tr>\n",
       "  </thead>\n",
       "  <tbody>\n",
       "    <tr>\n",
       "      <th>2017-01-01</th>\n",
       "      <td>6.0</td>\n",
       "      <td>NaN</td>\n",
       "      <td>7.584585</td>\n",
       "    </tr>\n",
       "    <tr>\n",
       "      <th>2017-01-02</th>\n",
       "      <td>9.0</td>\n",
       "      <td>NaN</td>\n",
       "      <td>7.920211</td>\n",
       "    </tr>\n",
       "    <tr>\n",
       "      <th>2017-01-03</th>\n",
       "      <td>6.0</td>\n",
       "      <td>NaN</td>\n",
       "      <td>8.215903</td>\n",
       "    </tr>\n",
       "    <tr>\n",
       "      <th>2017-01-04</th>\n",
       "      <td>8.0</td>\n",
       "      <td>NaN</td>\n",
       "      <td>8.297823</td>\n",
       "    </tr>\n",
       "    <tr>\n",
       "      <th>2017-01-05</th>\n",
       "      <td>6.0</td>\n",
       "      <td>NaN</td>\n",
       "      <td>8.238150</td>\n",
       "    </tr>\n",
       "    <tr>\n",
       "      <th>2017-01-06</th>\n",
       "      <td>NaN</td>\n",
       "      <td>NaN</td>\n",
       "      <td>7.589648</td>\n",
       "    </tr>\n",
       "    <tr>\n",
       "      <th>2017-01-07</th>\n",
       "      <td>NaN</td>\n",
       "      <td>NaN</td>\n",
       "      <td>7.590019</td>\n",
       "    </tr>\n",
       "  </tbody>\n",
       "</table>\n",
       "</div>"
      ],
      "text/plain": [
       "            Temperature  Humidity  Power Consumption\n",
       "2017-01-01          6.0       NaN           7.584585\n",
       "2017-01-02          9.0       NaN           7.920211\n",
       "2017-01-03          6.0       NaN           8.215903\n",
       "2017-01-04          8.0       NaN           8.297823\n",
       "2017-01-05          6.0       NaN           8.238150\n",
       "2017-01-06          NaN       NaN           7.589648\n",
       "2017-01-07          NaN       NaN           7.590019"
      ]
     },
     "execution_count": 196,
     "metadata": {},
     "output_type": "execute_result"
    }
   ],
   "source": [
    "df[df > 5]"
   ]
  },
  {
   "cell_type": "code",
   "execution_count": 197,
   "metadata": {
    "collapsed": false
   },
   "outputs": [
    {
     "data": {
      "text/html": [
       "<div>\n",
       "<table border=\"1\" class=\"dataframe\">\n",
       "  <thead>\n",
       "    <tr style=\"text-align: right;\">\n",
       "      <th></th>\n",
       "      <th>Temperature</th>\n",
       "      <th>Humidity</th>\n",
       "      <th>Power Consumption</th>\n",
       "      <th>Quality</th>\n",
       "    </tr>\n",
       "  </thead>\n",
       "  <tbody>\n",
       "    <tr>\n",
       "      <th>2017-01-01</th>\n",
       "      <td>6</td>\n",
       "      <td>0.472227</td>\n",
       "      <td>7.584585</td>\n",
       "      <td>nice day</td>\n",
       "    </tr>\n",
       "    <tr>\n",
       "      <th>2017-01-02</th>\n",
       "      <td>9</td>\n",
       "      <td>0.957238</td>\n",
       "      <td>7.920211</td>\n",
       "      <td>nice day</td>\n",
       "    </tr>\n",
       "    <tr>\n",
       "      <th>2017-01-03</th>\n",
       "      <td>6</td>\n",
       "      <td>0.737296</td>\n",
       "      <td>8.215903</td>\n",
       "      <td>soso day</td>\n",
       "    </tr>\n",
       "    <tr>\n",
       "      <th>2017-01-04</th>\n",
       "      <td>8</td>\n",
       "      <td>0.194414</td>\n",
       "      <td>8.297823</td>\n",
       "      <td>bad day</td>\n",
       "    </tr>\n",
       "    <tr>\n",
       "      <th>2017-01-05</th>\n",
       "      <td>6</td>\n",
       "      <td>0.481966</td>\n",
       "      <td>8.238150</td>\n",
       "      <td>bad day</td>\n",
       "    </tr>\n",
       "    <tr>\n",
       "      <th>2017-01-06</th>\n",
       "      <td>3</td>\n",
       "      <td>0.990898</td>\n",
       "      <td>7.589648</td>\n",
       "      <td>soso day</td>\n",
       "    </tr>\n",
       "    <tr>\n",
       "      <th>2017-01-07</th>\n",
       "      <td>3</td>\n",
       "      <td>0.263734</td>\n",
       "      <td>7.590019</td>\n",
       "      <td>wonderful day</td>\n",
       "    </tr>\n",
       "  </tbody>\n",
       "</table>\n",
       "</div>"
      ],
      "text/plain": [
       "            Temperature  Humidity  Power Consumption        Quality\n",
       "2017-01-01            6  0.472227           7.584585       nice day\n",
       "2017-01-02            9  0.957238           7.920211       nice day\n",
       "2017-01-03            6  0.737296           8.215903       soso day\n",
       "2017-01-04            8  0.194414           8.297823        bad day\n",
       "2017-01-05            6  0.481966           8.238150        bad day\n",
       "2017-01-06            3  0.990898           7.589648       soso day\n",
       "2017-01-07            3  0.263734           7.590019  wonderful day"
      ]
     },
     "execution_count": 197,
     "metadata": {},
     "output_type": "execute_result"
    }
   ],
   "source": [
    "df2 = df.copy()\n",
    "df2['Quality'] = ['nice day', 'nice day','soso day','bad day','bad day','soso day', 'wonderful day']\n",
    "df2"
   ]
  },
  {
   "cell_type": "code",
   "execution_count": 198,
   "metadata": {
    "collapsed": false
   },
   "outputs": [
    {
     "data": {
      "text/html": [
       "<div>\n",
       "<table border=\"1\" class=\"dataframe\">\n",
       "  <thead>\n",
       "    <tr style=\"text-align: right;\">\n",
       "      <th></th>\n",
       "      <th>Temperature</th>\n",
       "      <th>Humidity</th>\n",
       "      <th>Power Consumption</th>\n",
       "      <th>Quality</th>\n",
       "    </tr>\n",
       "  </thead>\n",
       "  <tbody>\n",
       "    <tr>\n",
       "      <th>2017-01-01</th>\n",
       "      <td>6</td>\n",
       "      <td>0.472227</td>\n",
       "      <td>7.584585</td>\n",
       "      <td>nice day</td>\n",
       "    </tr>\n",
       "    <tr>\n",
       "      <th>2017-01-02</th>\n",
       "      <td>9</td>\n",
       "      <td>0.957238</td>\n",
       "      <td>7.920211</td>\n",
       "      <td>nice day</td>\n",
       "    </tr>\n",
       "    <tr>\n",
       "      <th>2017-01-07</th>\n",
       "      <td>3</td>\n",
       "      <td>0.263734</td>\n",
       "      <td>7.590019</td>\n",
       "      <td>wonderful day</td>\n",
       "    </tr>\n",
       "  </tbody>\n",
       "</table>\n",
       "</div>"
      ],
      "text/plain": [
       "            Temperature  Humidity  Power Consumption        Quality\n",
       "2017-01-01            6  0.472227           7.584585       nice day\n",
       "2017-01-02            9  0.957238           7.920211       nice day\n",
       "2017-01-07            3  0.263734           7.590019  wonderful day"
      ]
     },
     "execution_count": 198,
     "metadata": {},
     "output_type": "execute_result"
    }
   ],
   "source": [
    "df2[df2['Quality'].isin(['wonderful day','nice day'])]"
   ]
  },
  {
   "cell_type": "markdown",
   "metadata": {
    "collapsed": false
   },
   "source": [
    "## Setting\n",
    "\n",
    "Setting a new column automatically aligns the data by the indexes"
   ]
  },
  {
   "cell_type": "code",
   "execution_count": 199,
   "metadata": {
    "collapsed": false
   },
   "outputs": [
    {
     "name": "stdout",
     "output_type": "stream",
     "text": [
      "2017-01-02    1\n",
      "2017-01-03    2\n",
      "2017-01-04    3\n",
      "2017-01-05    4\n",
      "2017-01-06    5\n",
      "2017-01-07    6\n",
      "2017-01-08    7\n",
      "Freq: D, dtype: int64\n"
     ]
    },
    {
     "data": {
      "text/html": [
       "<div>\n",
       "<table border=\"1\" class=\"dataframe\">\n",
       "  <thead>\n",
       "    <tr style=\"text-align: right;\">\n",
       "      <th></th>\n",
       "      <th>Temperature</th>\n",
       "      <th>Humidity</th>\n",
       "      <th>Power Consumption</th>\n",
       "      <th>Bogus</th>\n",
       "    </tr>\n",
       "  </thead>\n",
       "  <tbody>\n",
       "    <tr>\n",
       "      <th>2017-01-01</th>\n",
       "      <td>6</td>\n",
       "      <td>0.472227</td>\n",
       "      <td>7.584585</td>\n",
       "      <td>NaN</td>\n",
       "    </tr>\n",
       "    <tr>\n",
       "      <th>2017-01-02</th>\n",
       "      <td>9</td>\n",
       "      <td>0.957238</td>\n",
       "      <td>7.920211</td>\n",
       "      <td>1.0</td>\n",
       "    </tr>\n",
       "    <tr>\n",
       "      <th>2017-01-03</th>\n",
       "      <td>6</td>\n",
       "      <td>0.737296</td>\n",
       "      <td>8.215903</td>\n",
       "      <td>2.0</td>\n",
       "    </tr>\n",
       "    <tr>\n",
       "      <th>2017-01-04</th>\n",
       "      <td>8</td>\n",
       "      <td>0.194414</td>\n",
       "      <td>8.297823</td>\n",
       "      <td>3.0</td>\n",
       "    </tr>\n",
       "    <tr>\n",
       "      <th>2017-01-05</th>\n",
       "      <td>6</td>\n",
       "      <td>0.481966</td>\n",
       "      <td>8.238150</td>\n",
       "      <td>4.0</td>\n",
       "    </tr>\n",
       "    <tr>\n",
       "      <th>2017-01-06</th>\n",
       "      <td>3</td>\n",
       "      <td>0.990898</td>\n",
       "      <td>7.589648</td>\n",
       "      <td>5.0</td>\n",
       "    </tr>\n",
       "    <tr>\n",
       "      <th>2017-01-07</th>\n",
       "      <td>3</td>\n",
       "      <td>0.263734</td>\n",
       "      <td>7.590019</td>\n",
       "      <td>6.0</td>\n",
       "    </tr>\n",
       "  </tbody>\n",
       "</table>\n",
       "</div>"
      ],
      "text/plain": [
       "            Temperature  Humidity  Power Consumption  Bogus\n",
       "2017-01-01            6  0.472227           7.584585    NaN\n",
       "2017-01-02            9  0.957238           7.920211    1.0\n",
       "2017-01-03            6  0.737296           8.215903    2.0\n",
       "2017-01-04            8  0.194414           8.297823    3.0\n",
       "2017-01-05            6  0.481966           8.238150    4.0\n",
       "2017-01-06            3  0.990898           7.589648    5.0\n",
       "2017-01-07            3  0.263734           7.590019    6.0"
      ]
     },
     "execution_count": 199,
     "metadata": {},
     "output_type": "execute_result"
    }
   ],
   "source": [
    "s1 = pd.Series(range(1,8), index=pd.date_range('20170102', periods=7))\n",
    "print s1\n",
    "df['Bogus'] = s1\n",
    "df"
   ]
  },
  {
   "cell_type": "code",
   "execution_count": 200,
   "metadata": {
    "collapsed": false
   },
   "outputs": [
    {
     "data": {
      "text/html": [
       "<div>\n",
       "<table border=\"1\" class=\"dataframe\">\n",
       "  <thead>\n",
       "    <tr style=\"text-align: right;\">\n",
       "      <th></th>\n",
       "      <th>Temperature</th>\n",
       "      <th>Humidity</th>\n",
       "      <th>Power Consumption</th>\n",
       "      <th>Quality</th>\n",
       "    </tr>\n",
       "  </thead>\n",
       "  <tbody>\n",
       "    <tr>\n",
       "      <th>2017-01-01</th>\n",
       "      <td>5</td>\n",
       "      <td>0.000000</td>\n",
       "      <td>7.584585</td>\n",
       "      <td>nice day</td>\n",
       "    </tr>\n",
       "    <tr>\n",
       "      <th>2017-01-02</th>\n",
       "      <td>5</td>\n",
       "      <td>0.957238</td>\n",
       "      <td>7.920211</td>\n",
       "      <td>nice day</td>\n",
       "    </tr>\n",
       "    <tr>\n",
       "      <th>2017-01-03</th>\n",
       "      <td>5</td>\n",
       "      <td>0.737296</td>\n",
       "      <td>8.215903</td>\n",
       "      <td>soso day</td>\n",
       "    </tr>\n",
       "    <tr>\n",
       "      <th>2017-01-04</th>\n",
       "      <td>5</td>\n",
       "      <td>0.194414</td>\n",
       "      <td>8.297823</td>\n",
       "      <td>bad day</td>\n",
       "    </tr>\n",
       "    <tr>\n",
       "      <th>2017-01-05</th>\n",
       "      <td>5</td>\n",
       "      <td>0.481966</td>\n",
       "      <td>8.238150</td>\n",
       "      <td>bad day</td>\n",
       "    </tr>\n",
       "    <tr>\n",
       "      <th>2017-01-06</th>\n",
       "      <td>5</td>\n",
       "      <td>0.990898</td>\n",
       "      <td>7.589648</td>\n",
       "      <td>soso day</td>\n",
       "    </tr>\n",
       "    <tr>\n",
       "      <th>2017-01-07</th>\n",
       "      <td>5</td>\n",
       "      <td>0.263734</td>\n",
       "      <td>7.590019</td>\n",
       "      <td>wonderful day</td>\n",
       "    </tr>\n",
       "  </tbody>\n",
       "</table>\n",
       "</div>"
      ],
      "text/plain": [
       "            Temperature  Humidity  Power Consumption        Quality\n",
       "2017-01-01            5  0.000000           7.584585       nice day\n",
       "2017-01-02            5  0.957238           7.920211       nice day\n",
       "2017-01-03            5  0.737296           8.215903       soso day\n",
       "2017-01-04            5  0.194414           8.297823        bad day\n",
       "2017-01-05            5  0.481966           8.238150        bad day\n",
       "2017-01-06            5  0.990898           7.589648       soso day\n",
       "2017-01-07            5  0.263734           7.590019  wonderful day"
      ]
     },
     "execution_count": 200,
     "metadata": {},
     "output_type": "execute_result"
    }
   ],
   "source": [
    "df2.iloc[0,1] = 0\n",
    "df2.loc[:,'Temperature'] = np.array([5] * len(df))\n",
    "df2"
   ]
  },
  {
   "cell_type": "markdown",
   "metadata": {},
   "source": [
    "Example of fancy operation (column removal if records are not numbers)"
   ]
  },
  {
   "cell_type": "code",
   "execution_count": 201,
   "metadata": {
    "collapsed": false
   },
   "outputs": [
    {
     "data": {
      "text/html": [
       "<div>\n",
       "<table border=\"1\" class=\"dataframe\">\n",
       "  <thead>\n",
       "    <tr style=\"text-align: right;\">\n",
       "      <th></th>\n",
       "      <th>Temperature</th>\n",
       "      <th>Humidity</th>\n",
       "      <th>Power Consumption</th>\n",
       "    </tr>\n",
       "  </thead>\n",
       "  <tbody>\n",
       "    <tr>\n",
       "      <th>2017-01-01</th>\n",
       "      <td>5</td>\n",
       "      <td>0.000000</td>\n",
       "      <td>7.584585</td>\n",
       "    </tr>\n",
       "    <tr>\n",
       "      <th>2017-01-02</th>\n",
       "      <td>5</td>\n",
       "      <td>0.957238</td>\n",
       "      <td>7.920211</td>\n",
       "    </tr>\n",
       "    <tr>\n",
       "      <th>2017-01-03</th>\n",
       "      <td>5</td>\n",
       "      <td>0.737296</td>\n",
       "      <td>8.215903</td>\n",
       "    </tr>\n",
       "    <tr>\n",
       "      <th>2017-01-04</th>\n",
       "      <td>5</td>\n",
       "      <td>0.194414</td>\n",
       "      <td>8.297823</td>\n",
       "    </tr>\n",
       "    <tr>\n",
       "      <th>2017-01-05</th>\n",
       "      <td>5</td>\n",
       "      <td>0.481966</td>\n",
       "      <td>8.238150</td>\n",
       "    </tr>\n",
       "    <tr>\n",
       "      <th>2017-01-06</th>\n",
       "      <td>5</td>\n",
       "      <td>0.990898</td>\n",
       "      <td>7.589648</td>\n",
       "    </tr>\n",
       "    <tr>\n",
       "      <th>2017-01-07</th>\n",
       "      <td>5</td>\n",
       "      <td>0.263734</td>\n",
       "      <td>7.590019</td>\n",
       "    </tr>\n",
       "  </tbody>\n",
       "</table>\n",
       "</div>"
      ],
      "text/plain": [
       "            Temperature  Humidity  Power Consumption\n",
       "2017-01-01            5  0.000000           7.584585\n",
       "2017-01-02            5  0.957238           7.920211\n",
       "2017-01-03            5  0.737296           8.215903\n",
       "2017-01-04            5  0.194414           8.297823\n",
       "2017-01-05            5  0.481966           8.238150\n",
       "2017-01-06            5  0.990898           7.589648\n",
       "2017-01-07            5  0.263734           7.590019"
      ]
     },
     "execution_count": 201,
     "metadata": {},
     "output_type": "execute_result"
    }
   ],
   "source": [
    "for column in df2.columns:\n",
    "    if not np.issubdtype(df2[column].dtype, np.number):\n",
    "        df2.drop(column, axis=1, inplace=True)\n",
    "df2"
   ]
  },
  {
   "cell_type": "markdown",
   "metadata": {},
   "source": [
    "Some other global operations"
   ]
  },
  {
   "cell_type": "code",
   "execution_count": 202,
   "metadata": {
    "collapsed": false
   },
   "outputs": [
    {
     "data": {
      "text/html": [
       "<div>\n",
       "<table border=\"1\" class=\"dataframe\">\n",
       "  <thead>\n",
       "    <tr style=\"text-align: right;\">\n",
       "      <th></th>\n",
       "      <th>Temperature</th>\n",
       "      <th>Humidity</th>\n",
       "      <th>Power Consumption</th>\n",
       "    </tr>\n",
       "  </thead>\n",
       "  <tbody>\n",
       "    <tr>\n",
       "      <th>2017-01-01</th>\n",
       "      <td>5.0</td>\n",
       "      <td>0.000000</td>\n",
       "      <td>7.584585</td>\n",
       "    </tr>\n",
       "    <tr>\n",
       "      <th>2017-01-02</th>\n",
       "      <td>5.0</td>\n",
       "      <td>0.957238</td>\n",
       "      <td>7.920211</td>\n",
       "    </tr>\n",
       "    <tr>\n",
       "      <th>2017-01-03</th>\n",
       "      <td>-5.0</td>\n",
       "      <td>-0.737296</td>\n",
       "      <td>-8.215903</td>\n",
       "    </tr>\n",
       "    <tr>\n",
       "      <th>2017-01-04</th>\n",
       "      <td>-5.0</td>\n",
       "      <td>-0.194414</td>\n",
       "      <td>-8.297823</td>\n",
       "    </tr>\n",
       "    <tr>\n",
       "      <th>2017-01-05</th>\n",
       "      <td>-5.0</td>\n",
       "      <td>-0.481966</td>\n",
       "      <td>-8.238150</td>\n",
       "    </tr>\n",
       "    <tr>\n",
       "      <th>2017-01-06</th>\n",
       "      <td>5.0</td>\n",
       "      <td>0.990898</td>\n",
       "      <td>7.589648</td>\n",
       "    </tr>\n",
       "    <tr>\n",
       "      <th>2017-01-07</th>\n",
       "      <td>5.0</td>\n",
       "      <td>0.263734</td>\n",
       "      <td>7.590019</td>\n",
       "    </tr>\n",
       "  </tbody>\n",
       "</table>\n",
       "</div>"
      ],
      "text/plain": [
       "            Temperature  Humidity  Power Consumption\n",
       "2017-01-01          5.0  0.000000           7.584585\n",
       "2017-01-02          5.0  0.957238           7.920211\n",
       "2017-01-03         -5.0 -0.737296          -8.215903\n",
       "2017-01-04         -5.0 -0.194414          -8.297823\n",
       "2017-01-05         -5.0 -0.481966          -8.238150\n",
       "2017-01-06          5.0  0.990898           7.589648\n",
       "2017-01-07          5.0  0.263734           7.590019"
      ]
     },
     "execution_count": 202,
     "metadata": {},
     "output_type": "execute_result"
    }
   ],
   "source": [
    "#-df\n",
    "#df*5\n",
    "df2[df2['Power Consumption']>8]=-df2\n",
    "df2"
   ]
  },
  {
   "cell_type": "markdown",
   "metadata": {},
   "source": [
    "Theres much more that Pandas can do for you. Make sure to check the documentation: http://pandas.pydata.org/pandas-docs/stable/\n",
    "\n",
    "## Exercises:\n",
    "\n",
    "now try excercise with the following dataset:"
   ]
  },
  {
   "cell_type": "code",
   "execution_count": 98,
   "metadata": {
    "collapsed": true
   },
   "outputs": [],
   "source": [
    "df = pd.read_csv(\"../data/titanic-train.csv\")"
   ]
  },
  {
   "cell_type": "markdown",
   "metadata": {},
   "source": [
    "- select passengers that survived\n",
    "- select passengers that embarked in port S\n",
    "- select male passengers\n",
    "- select passengers who paid less than 40.000 and were in third class\n",
    "- locate the name of passegner Id 674\n",
    "- calculate the average age of passengers using the function mean()\n",
    "- count the number of survived and the number of dead passengers\n",
    "- count the number of males and females\n",
    "- count the number of survived and dead per each gender\n",
    "- calculate average price paid by survived and dead people\n"
   ]
  },
  {
   "cell_type": "markdown",
   "metadata": {},
   "source": [
    "*Copyright &copy; 2015 Dataweekends.  All rights reserved.*"
   ]
  }
 ],
 "metadata": {
  "anaconda-cloud": {},
  "kernelspec": {
   "display_name": "Python [default]",
   "language": "python",
   "name": "python2"
  },
  "language_info": {
   "codemirror_mode": {
    "name": "ipython",
    "version": 2
   },
   "file_extension": ".py",
   "mimetype": "text/x-python",
   "name": "python",
   "nbconvert_exporter": "python",
   "pygments_lexer": "ipython2",
   "version": "2.7.13"
  }
 },
 "nbformat": 4,
 "nbformat_minor": 0
}
