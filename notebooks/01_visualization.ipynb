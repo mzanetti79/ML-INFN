{
 "cells": [
  {
   "cell_type": "markdown",
   "metadata": {},
   "source": [
    "# Data Visualization\n",
    "\n",
    "Visual data exploration is often useful to have an initial understanding of how values are distributed.\n",
    "\n",
    "This notebook covers several types of plots:\n",
    "\n",
    "- line plot\n",
    "- scatter plot\n",
    "- histogram\n",
    "- profile plot\n",
    "- pie chart\n",
    "- hexbin plot\n",
    "- pairwise plots\n",
    "\n",
    "We will try functionalities from 3 different packages: \n",
    "\n",
    "- matplotlib  http://matplotlib.org\n",
    "- pandas http://pandas.pydata.org/pandas-docs/version/0.18.1/visualization.html\n",
    "- seaborn http://seaborn.pydata.org\n",
    "\n",
    "Most of the things can be done with either of those packages"
   ]
  },
  {
   "cell_type": "code",
   "execution_count": null,
   "metadata": {
    "collapsed": false
   },
   "outputs": [],
   "source": [
    "import pandas as pd\n",
    "import numpy as np\n",
    "import matplotlib.pyplot as plt\n",
    "from scipy import stats\n",
    "%matplotlib inline"
   ]
  },
  {
   "cell_type": "code",
   "execution_count": null,
   "metadata": {
    "collapsed": false
   },
   "outputs": [],
   "source": [
    "data = np.random.normal(0, 0.01, 1000)"
   ]
  },
  {
   "cell_type": "markdown",
   "metadata": {},
   "source": [
    "## Matplotlib plotting"
   ]
  },
  {
   "cell_type": "code",
   "execution_count": null,
   "metadata": {
    "collapsed": false,
    "scrolled": false
   },
   "outputs": [],
   "source": [
    "plt.plot(data, 'o')"
   ]
  },
  {
   "cell_type": "markdown",
   "metadata": {},
   "source": [
    "Interactive plotting"
   ]
  },
  {
   "cell_type": "code",
   "execution_count": null,
   "metadata": {
    "collapsed": true
   },
   "outputs": [],
   "source": [
    "%matplotlib notebook"
   ]
  },
  {
   "cell_type": "code",
   "execution_count": null,
   "metadata": {
    "collapsed": false
   },
   "outputs": [],
   "source": [
    "plt.plot(data, 'o')"
   ]
  },
  {
   "cell_type": "code",
   "execution_count": null,
   "metadata": {
    "collapsed": true
   },
   "outputs": [],
   "source": [
    "%matplotlib inline"
   ]
  },
  {
   "cell_type": "code",
   "execution_count": null,
   "metadata": {
    "collapsed": false
   },
   "outputs": [],
   "source": [
    "fig = plt.figure(figsize=(16,12))\n",
    "\n",
    "ax = fig.add_subplot(2,2,1)\n",
    "ax.plot(data)\n",
    "ax.set_title('Line plot', size=24)\n",
    "\n",
    "ax = fig.add_subplot(2,2,2)\n",
    "ax.plot(data, 'o')\n",
    "ax.set_title('Scatter plot', size=24)\n",
    "\n",
    "ax = fig.add_subplot(2,2,3)\n",
    "ax.hist(data, bins=50)\n",
    "ax.set_title('Histogram', size=24)\n",
    "ax.set_xlabel('count', size=16)\n",
    "\n",
    "ax = fig.add_subplot(2,2,4)\n",
    "ax.boxplot(data)\n",
    "ax.set_title('Boxplot', size=24)"
   ]
  },
  {
   "cell_type": "markdown",
   "metadata": {},
   "source": [
    "## Pandas plotting"
   ]
  },
  {
   "cell_type": "code",
   "execution_count": null,
   "metadata": {
    "collapsed": true
   },
   "outputs": [],
   "source": [
    "dataseries = pd.Series(data)"
   ]
  },
  {
   "cell_type": "code",
   "execution_count": null,
   "metadata": {
    "collapsed": false
   },
   "outputs": [],
   "source": [
    "fig, ax = plt.subplots(2, 2, figsize=(16,12))\n",
    "\n",
    "dataseries.plot(ax=ax[0][0],\n",
    "                title='Line plot')\n",
    "\n",
    "dataseries.plot(ax=ax[0][1],\n",
    "                style='o',\n",
    "                title='Scatter plot')\n",
    "\n",
    "dataseries.plot(ax=ax[1][0],\n",
    "                kind='hist',\n",
    "                bins=50,\n",
    "                title='Histogram'\n",
    "               )\n",
    "\n",
    "dataseries.plot(ax=ax[1][1],\n",
    "                kind='box',\n",
    "                title='Boxplot'\n",
    "               )"
   ]
  },
  {
   "cell_type": "markdown",
   "metadata": {},
   "source": [
    "## Seaborn plots\n",
    "\n",
    "generic series plotting"
   ]
  },
  {
   "cell_type": "code",
   "execution_count": null,
   "metadata": {
    "collapsed": true
   },
   "outputs": [],
   "source": [
    "import seaborn as sns\n",
    "sns.set(color_codes=True)\n",
    "np.random.seed(sum(map(ord, \"prendiamo una parola a caso: Bosone di Higgs\")))"
   ]
  },
  {
   "cell_type": "code",
   "execution_count": null,
   "metadata": {
    "collapsed": true
   },
   "outputs": [],
   "source": [
    "x = np.random.normal(size=100)"
   ]
  },
  {
   "cell_type": "code",
   "execution_count": null,
   "metadata": {
    "collapsed": false
   },
   "outputs": [],
   "source": [
    "sns.distplot(x)"
   ]
  },
  {
   "cell_type": "code",
   "execution_count": null,
   "metadata": {
    "collapsed": false
   },
   "outputs": [],
   "source": [
    "sns.distplot(x, bins=15, hist=True, kde=False, rug=True, color='red',axlabel='axis label');"
   ]
  },
  {
   "cell_type": "markdown",
   "metadata": {},
   "source": [
    "### fitting parametric distributions"
   ]
  },
  {
   "cell_type": "code",
   "execution_count": null,
   "metadata": {
    "collapsed": false
   },
   "outputs": [],
   "source": [
    "x = np.random.gamma(6, size=1000)\n",
    "sns.distplot(x, kde=False, fit=stats.gamma);"
   ]
  },
  {
   "cell_type": "code",
   "execution_count": null,
   "metadata": {
    "collapsed": false
   },
   "outputs": [],
   "source": [
    "stats.gamma.fit(x)"
   ]
  },
  {
   "cell_type": "markdown",
   "metadata": {},
   "source": [
    "### Bidimensional distributions"
   ]
  },
  {
   "cell_type": "code",
   "execution_count": null,
   "metadata": {
    "collapsed": false
   },
   "outputs": [],
   "source": [
    "df = pd.read_csv('../data/weight-height.csv')\n",
    "df.head()"
   ]
  },
  {
   "cell_type": "code",
   "execution_count": null,
   "metadata": {
    "collapsed": false
   },
   "outputs": [],
   "source": [
    "sns.jointplot(x=\"Height\", y=\"Weight\",data=df[0:1000]);\n",
    "sns.jointplot(x=\"Height\", y=\"Weight\", kind='hex',color='g',data=df[0:1000]);\n",
    "sns.jointplot(x=\"Height\", y=\"Weight\", data=df[0:10000], kind=\"kde\");\n"
   ]
  },
  {
   "cell_type": "code",
   "execution_count": null,
   "metadata": {
    "collapsed": true
   },
   "outputs": [],
   "source": [
    "males = df[df.Gender == 'Male']\n",
    "females = df[df.Gender == 'Female']"
   ]
  },
  {
   "cell_type": "code",
   "execution_count": null,
   "metadata": {
    "collapsed": false
   },
   "outputs": [],
   "source": [
    "with sns.axes_style(\"whitegrid\"): \n",
    "    sns.jointplot(x=\"Height\", y=\"Weight\",data=males[0:1000], color='blue', kind='reg');\n",
    "    sns.jointplot(x=\"Height\", y=\"Weight\",data=females[0:1000], color='pink', kind='reg');"
   ]
  },
  {
   "cell_type": "code",
   "execution_count": null,
   "metadata": {
    "collapsed": false
   },
   "outputs": [],
   "source": [
    "fig, ax = plt.subplots()\n",
    "sns.regplot(x=males['Height'],\n",
    "            y=males['Weight'],\n",
    "            x_bins=10, fit_reg=None, ax=ax)\n",
    "sns.regplot(x=females['Height'],\n",
    "            y=females['Weight'],\n",
    "            x_bins=10, fit_reg=None, ax=ax, color='pink')"
   ]
  },
  {
   "cell_type": "markdown",
   "metadata": {},
   "source": [
    "### Visualizing pairwise relationships in a dataset\n",
    "\n",
    "Load a predefined dataset (flowers features) and plot its features pairwise "
   ]
  },
  {
   "cell_type": "code",
   "execution_count": null,
   "metadata": {
    "collapsed": false
   },
   "outputs": [],
   "source": [
    "iris = sns.load_dataset(\"iris\")\n",
    "sns.pairplot(iris,vars=[\"sepal_length\",\"sepal_width\",\"petal_length\"]);"
   ]
  },
  {
   "cell_type": "markdown",
   "metadata": {},
   "source": [
    "## Exercises:\n",
    "\n",
    "1)\n",
    "- with the weight-height dataset (data/weight-height.csv)\n",
    "- plot the male and female population separately in the same a scatter plot\n",
    "- addn a legenda\n",
    "- plot a vertical line at the mean using axvline\n",
    "\n",
    "2)\n",
    "- load the dataset: data/international-airline-passengers.csv\n",
    "- inspect it using the .info() and .head() commands\n",
    "- set the index to be a datetime index using the set_index() and to_datetime() methods\n",
    "- choose the appropriate plot and display the data\n",
    "- choose appropriate scale\n",
    "- label the axes\n",
    "\n",
    "3)\n",
    "- load the dataset: data/titanic-train.csv\n",
    "- inspect it and display the relevant features\n",
    "- play with the kde and rug plots\n",
    "- play with the scatter matrix \n"
   ]
  },
  {
   "cell_type": "code",
   "execution_count": null,
   "metadata": {
    "collapsed": true
   },
   "outputs": [],
   "source": []
  }
 ],
 "metadata": {
  "anaconda-cloud": {},
  "kernelspec": {
   "display_name": "Python [default]",
   "language": "python",
   "name": "python2"
  },
  "language_info": {
   "codemirror_mode": {
    "name": "ipython",
    "version": 2
   },
   "file_extension": ".py",
   "mimetype": "text/x-python",
   "name": "python",
   "nbconvert_exporter": "python",
   "pygments_lexer": "ipython2",
   "version": "2.7.13"
  }
 },
 "nbformat": 4,
 "nbformat_minor": 0
}
