{
 "cells": [
  {
   "cell_type": "markdown",
   "metadata": {},
   "source": [
    "# Overfitting and Regularization\n",
    "\n",
    "We have seen some of the core dynamical properties of stochastic gradient descent already. With large, complex problems, frequently the biggest problem is preventing deep models from overfitting. Here we explore 3 important ways to do this."
   ]
  },
  {
   "cell_type": "code",
   "execution_count": 1,
   "metadata": {
    "collapsed": false
   },
   "outputs": [
    {
     "name": "stderr",
     "output_type": "stream",
     "text": [
      "Using TensorFlow backend.\n"
     ]
    }
   ],
   "source": [
    "%matplotlib inline\n",
    "\n",
    "import numpy as np\n",
    "import matplotlib.pyplot as plt\n",
    "from sklearn.datasets import make_blobs, make_circles\n",
    "from sklearn.cross_validation import train_test_split\n",
    "from keras.models import Sequential\n",
    "from keras.layers import Dense, Activation, Dropout\n",
    "from keras.optimizers import SGD, RMSprop\n",
    "from keras.utils import np_utils"
   ]
  },
  {
   "cell_type": "markdown",
   "metadata": {},
   "source": [
    "## Preventing overfitting with regularization\n",
    "\n",
    "Below we will do some experiments to detect overfitting and explore some ways to prevent it.\n",
    "\n",
    "Scikit-learn includes a very small dataset of handwritten digits that we will experiment on."
   ]
  },
  {
   "cell_type": "code",
   "execution_count": 2,
   "metadata": {
    "collapsed": false
   },
   "outputs": [
    {
     "name": "stdout",
     "output_type": "stream",
     "text": [
      "(1797, 64)\n"
     ]
    }
   ],
   "source": [
    "from sklearn.datasets import load_digits\n",
    "digits = load_digits()\n",
    "print digits.data.shape\n",
    "\n",
    "y = np_utils.to_categorical(digits.target)\n",
    "X_train, X_test, y_train, y_test = train_test_split(digits.data, y)"
   ]
  },
  {
   "cell_type": "markdown",
   "metadata": {},
   "source": [
    "Take a look at some random digits in the dataset. They are very small images, 8px by 8px."
   ]
  },
  {
   "cell_type": "code",
   "execution_count": 3,
   "metadata": {
    "collapsed": false
   },
   "outputs": [
    {
     "data": {
      "text/plain": [
       "<matplotlib.image.AxesImage at 0x112309450>"
      ]
     },
     "execution_count": 3,
     "metadata": {},
     "output_type": "execute_result"
    },
    {
     "data": {
      "image/png": "[encoded data removed]",
      "text/plain": [
       "<matplotlib.figure.Figure at 0x10afe5bd0>"
      ]
     },
     "metadata": {},
     "output_type": "display_data"
    }
   ],
   "source": [
    "X = digits.data.reshape([len(digits.data), 8, 8])\n",
    "plt.imshow(X[np.random.randint(len(digits.data))], cmap='Greys')"
   ]
  },
  {
   "cell_type": "markdown",
   "metadata": {},
   "source": [
    "There are, naturally, 10 classes in this dataset. As a quick check: what is the worst possible accuracy a model can have on this dataset of 10 classes?\n",
    "\n",
    "### Validation data in Keras\n",
    "\n",
    "Below we create a model with a single hidden layer. We call the `model.fit` method below with the `validation_split` argument. This tells Keras to put aside a portion of the training data as a **validation set**. On every epoch, Keras will compute the loss on the validation set and save it on the history object so that we can inspect it.\n",
    "\n",
    "In this example, the validation split is set to be 98% of the data! So ony 2% is used for training. Clearly this isn't a good choice, but it does successfully simulate overfitting with a simple example that can train very quickly. Doing experiments like this, even exaggerated ones, is a good way to build intuition."
   ]
  },
  {
   "cell_type": "code",
   "execution_count": 4,
   "metadata": {
    "collapsed": false
   },
   "outputs": [
    {
     "name": "stdout",
     "output_type": "stream",
     "text": [
      "Train on 26 samples, validate on 1321 samples\n",
      "Epoch 1/20\n",
      "0s - loss: 6.2029 - acc: 0.1538 - val_loss: 5.9210 - val_acc: 0.1559\n",
      "Epoch 2/20\n",
      "0s - loss: 3.2378 - acc: 0.3077 - val_loss: 4.2855 - val_acc: 0.2089\n",
      "Epoch 3/20\n",
      "0s - loss: 1.7628 - acc: 0.5385 - val_loss: 3.4722 - val_acc: 0.2650\n",
      "Epoch 4/20\n",
      "0s - loss: 1.4398 - acc: 0.6154 - val_loss: 3.3940 - val_acc: 0.2680\n",
      "Epoch 5/20\n",
      "0s - loss: 1.0060 - acc: 0.6923 - val_loss: 3.4237 - val_acc: 0.2657\n",
      "Epoch 6/20\n",
      "0s - loss: 0.8739 - acc: 0.7308 - val_loss: 3.1053 - val_acc: 0.3058\n",
      "Epoch 7/20\n",
      "0s - loss: 0.6947 - acc: 0.7692 - val_loss: 3.1940 - val_acc: 0.2861\n",
      "Epoch 8/20\n",
      "0s - loss: 0.5827 - acc: 0.8846 - val_loss: 3.0025 - val_acc: 0.3187\n",
      "Epoch 9/20\n",
      "0s - loss: 0.4930 - acc: 0.8846 - val_loss: 2.9511 - val_acc: 0.3391\n",
      "Epoch 10/20\n",
      "0s - loss: 0.4301 - acc: 0.8846 - val_loss: 3.0215 - val_acc: 0.3414\n",
      "Epoch 11/20\n",
      "0s - loss: 0.3748 - acc: 0.9615 - val_loss: 3.0259 - val_acc: 0.3558\n",
      "Epoch 12/20\n",
      "0s - loss: 0.3444 - acc: 0.9231 - val_loss: 3.0135 - val_acc: 0.3543\n",
      "Epoch 13/20\n",
      "0s - loss: 0.3057 - acc: 0.9615 - val_loss: 3.1215 - val_acc: 0.3550\n",
      "Epoch 14/20\n",
      "0s - loss: 0.2711 - acc: 0.9615 - val_loss: 3.0434 - val_acc: 0.3649\n",
      "Epoch 15/20\n",
      "0s - loss: 0.2419 - acc: 1.0000 - val_loss: 2.9989 - val_acc: 0.3694\n",
      "Epoch 16/20\n",
      "0s - loss: 0.2304 - acc: 1.0000 - val_loss: 2.9892 - val_acc: 0.3808\n",
      "Epoch 17/20\n",
      "0s - loss: 0.2160 - acc: 1.0000 - val_loss: 2.9202 - val_acc: 0.3989\n",
      "Epoch 18/20\n",
      "0s - loss: 0.2200 - acc: 0.9615 - val_loss: 2.8678 - val_acc: 0.4088\n",
      "Epoch 19/20\n",
      "0s - loss: 0.1923 - acc: 1.0000 - val_loss: 2.9798 - val_acc: 0.3929\n",
      "Epoch 20/20\n",
      "0s - loss: 0.1719 - acc: 1.0000 - val_loss: 3.0133 - val_acc: 0.3982\n",
      "Test set loss:  3.29935394711\n",
      "Test set accuracy:  0.36\n"
     ]
    }
   ],
   "source": [
    "model0 = Sequential()\n",
    "model0.add(Dense(32, input_dim=64))\n",
    "model0.add(Activation('relu'))\n",
    "model0.add(Dense(10))\n",
    "model0.add(Activation('softmax'))\n",
    "\n",
    "sgd = SGD(lr=0.01)\n",
    "model0.compile(loss='categorical_crossentropy',\n",
    "               optimizer=sgd,\n",
    "               metrics=['accuracy'])\n",
    "\n",
    "history0 = model0.fit(X_train, y_train, nb_epoch=20,\n",
    "                      batch_size=16, verbose=2,\n",
    "                      validation_split=0.98)\n",
    "\n",
    "result = model0.evaluate(X_test, y_test, verbose=0)\n",
    "print 'Test set loss: ', result[0]\n",
    "print 'Test set accuracy: ', result[1]"
   ]
  },
  {
   "cell_type": "markdown",
   "metadata": {},
   "source": [
    "Let's modify our `plot_loss` function to plot the validation loss in red."
   ]
  },
  {
   "cell_type": "code",
   "execution_count": 5,
   "metadata": {
    "collapsed": false
   },
   "outputs": [
    {
     "data": {
      "image/png": "[encoded data removed]",
      "text/plain": [
       "<matplotlib.figure.Figure at 0x1123ac090>"
      ]
     },
     "metadata": {},
     "output_type": "display_data"
    }
   ],
   "source": [
    "def plot_loss(hist, val=False):\n",
    "    loss = hist.history['loss']\n",
    "    val_loss= hist.history['val_loss']\n",
    "    plt.plot(range(len(loss)), loss, 'b', val_loss, 'r')\n",
    "    \n",
    "plot_loss(history0, val=True)"
   ]
  },
  {
   "cell_type": "markdown",
   "metadata": {},
   "source": [
    "This technique of of visualizing the validation loss enables us to see that we are overfitting even very early. The test accuracy is probably very poor.\n",
    "\n",
    "\n",
    "## 1. More data\n",
    "\n",
    "The best way to fight overfitting is to provide more data.\n",
    "\n",
    "- - -\n",
    "### Exercise 1 - More data\n",
    "\n",
    "This is an easy one: retrain the model with a reasonable validation split. Does the model still overfit? How can you tell from comparing the plot of this model with the previous plot that the problem is not as bad?\n",
    "\n",
    "The model is replicated below as `model1`.\n",
    "- - -"
   ]
  },
  {
   "cell_type": "code",
   "execution_count": 9,
   "metadata": {
    "collapsed": false
   },
   "outputs": [
    {
     "name": "stdout",
     "output_type": "stream",
     "text": [
      "Train on 1212 samples, validate on 135 samples\n",
      "Epoch 1/20\n",
      "0s - loss: 1.9633 - acc: 0.6073 - val_loss: 0.8140 - val_acc: 0.6889\n",
      "Epoch 2/20\n",
      "0s - loss: 0.4313 - acc: 0.8606 - val_loss: 0.4865 - val_acc: 0.8444\n",
      "Epoch 3/20\n",
      "0s - loss: 0.2813 - acc: 0.9183 - val_loss: 0.4782 - val_acc: 0.8444\n",
      "Epoch 4/20\n",
      "0s - loss: 0.2127 - acc: 0.9323 - val_loss: 0.3368 - val_acc: 0.8889\n",
      "Epoch 5/20\n",
      "0s - loss: 0.1636 - acc: 0.9505 - val_loss: 0.3386 - val_acc: 0.9185\n",
      "Epoch 6/20\n",
      "0s - loss: 0.1357 - acc: 0.9579 - val_loss: 0.3033 - val_acc: 0.9185\n",
      "Epoch 7/20\n",
      "0s - loss: 0.1096 - acc: 0.9662 - val_loss: 0.3000 - val_acc: 0.9259\n",
      "Epoch 8/20\n",
      "0s - loss: 0.1011 - acc: 0.9637 - val_loss: 0.2670 - val_acc: 0.9259\n",
      "Epoch 9/20\n",
      "0s - loss: 0.0911 - acc: 0.9736 - val_loss: 0.2535 - val_acc: 0.9259\n",
      "Epoch 10/20\n",
      "0s - loss: 0.0750 - acc: 0.9794 - val_loss: 0.2584 - val_acc: 0.9111\n",
      "Epoch 11/20\n",
      "0s - loss: 0.0655 - acc: 0.9843 - val_loss: 0.2989 - val_acc: 0.9333\n",
      "Epoch 12/20\n",
      "0s - loss: 0.0624 - acc: 0.9810 - val_loss: 0.2356 - val_acc: 0.9333\n",
      "Epoch 13/20\n",
      "0s - loss: 0.0528 - acc: 0.9876 - val_loss: 0.2510 - val_acc: 0.9259\n",
      "Epoch 14/20\n",
      "0s - loss: 0.0517 - acc: 0.9884 - val_loss: 0.2507 - val_acc: 0.9259\n",
      "Epoch 15/20\n",
      "0s - loss: 0.0432 - acc: 0.9926 - val_loss: 0.2521 - val_acc: 0.9259\n",
      "Epoch 16/20\n",
      "0s - loss: 0.0418 - acc: 0.9934 - val_loss: 0.3627 - val_acc: 0.9037\n",
      "Epoch 17/20\n",
      "0s - loss: 0.0396 - acc: 0.9926 - val_loss: 0.2226 - val_acc: 0.9333\n",
      "Epoch 18/20\n",
      "0s - loss: 0.0352 - acc: 0.9942 - val_loss: 0.2301 - val_acc: 0.9333\n",
      "Epoch 19/20\n",
      "0s - loss: 0.0324 - acc: 0.9959 - val_loss: 0.2087 - val_acc: 0.9259\n",
      "Epoch 20/20\n",
      "0s - loss: 0.0308 - acc: 0.9942 - val_loss: 0.2166 - val_acc: 0.9185\n",
      "Test set loss:  0.138535876095\n",
      "Test set accuracy:  0.971111111111\n"
     ]
    },
    {
     "data": {
      "image/png": "[encoded data removed]",
      "text/plain": [
       "<matplotlib.figure.Figure at 0x113ce83d0>"
      ]
     },
     "metadata": {},
     "output_type": "display_data"
    }
   ],
   "source": [
    "# Add more data by adjusting the validation_split\n",
    "model1 = Sequential()\n",
    "model1.add(Dense(32, input_dim=64))\n",
    "model1.add(Activation('relu'))\n",
    "model1.add(Dense(10))\n",
    "model1.add(Activation('softmax'))\n",
    "\n",
    "sgd = SGD(lr=0.01)\n",
    "model1.compile(loss='categorical_crossentropy',\n",
    "               optimizer=sgd,\n",
    "               metrics=['accuracy'])\n",
    "\n",
    "history1 = model1.fit(X_train, y_train, nb_epoch=20,\n",
    "                      batch_size=16, verbose=2,\n",
    "                      validation_split=0.1)\n",
    "\n",
    "result = model1.evaluate(X_test, y_test, verbose=0)\n",
    "print 'Test set loss: ', result[0]\n",
    "print 'Test set accuracy: ', result[1]\n",
    "\n",
    "plot_loss(history1, val=True)"
   ]
  },
  {
   "cell_type": "markdown",
   "metadata": {},
   "source": [
    "## 2. Weight regularization\n",
    "\n",
    "A very common way to prevent overfitting is to extend the loss function to encourage weights to generally be small. Large weights often mean that the model is \"memorizing\" the training data. Adding weight regularization is a great way to prevent this.\n",
    "\n",
    "- - -\n",
    "### Exercise 2 - Add L2 weight regularization\n",
    "\n",
    "Let's pretend that we can't simply change the `validation_split`. Add L2 weight regularization to both `Dense` layers in `model2` below. Refer to the [documentation](http://keras.io/regularizers/) to see how to do this.\n",
    "\n",
    "You will probably need to do a few runs to find a value of the regularization parameter that works well. Can you get the model reliably to get near 60% on the test set?\n",
    "\n",
    "Note: when you plot that loss, Keras does not include the weight regularization in the validation loss.\n",
    "- - -"
   ]
  },
  {
   "cell_type": "code",
   "execution_count": 12,
   "metadata": {
    "collapsed": false
   },
   "outputs": [
    {
     "name": "stdout",
     "output_type": "stream",
     "text": [
      "Train on 26 samples, validate on 1321 samples\n",
      "Epoch 1/20\n",
      "0s - loss: 55.1939 - acc: 0.0385 - val_loss: 5.0833 - val_acc: 0.1741\n",
      "Epoch 2/20\n",
      "0s - loss: 46.3167 - acc: 0.1923 - val_loss: 4.0976 - val_acc: 0.2377\n",
      "Epoch 3/20\n",
      "0s - loss: 41.9735 - acc: 0.1923 - val_loss: 3.2942 - val_acc: 0.2816\n",
      "Epoch 4/20\n",
      "0s - loss: 38.3257 - acc: 0.5000 - val_loss: 2.6253 - val_acc: 0.3936\n",
      "Epoch 5/20\n",
      "0s - loss: 35.3341 - acc: 0.6923 - val_loss: 2.3530 - val_acc: 0.4603\n",
      "Epoch 6/20\n",
      "0s - loss: 32.9404 - acc: 0.8462 - val_loss: 2.0813 - val_acc: 0.5201\n",
      "Epoch 7/20\n",
      "0s - loss: 30.8028 - acc: 0.9231 - val_loss: 2.0530 - val_acc: 0.5148\n",
      "Epoch 8/20\n",
      "0s - loss: 28.8970 - acc: 0.8846 - val_loss: 1.8358 - val_acc: 0.5511\n",
      "Epoch 9/20\n",
      "0s - loss: 27.2303 - acc: 0.9231 - val_loss: 1.7586 - val_acc: 0.5723\n",
      "Epoch 10/20\n",
      "0s - loss: 25.4237 - acc: 0.9615 - val_loss: 1.7026 - val_acc: 0.5920\n",
      "Epoch 11/20\n",
      "0s - loss: 23.8972 - acc: 0.9615 - val_loss: 1.6184 - val_acc: 0.6041\n",
      "Epoch 12/20\n",
      "0s - loss: 22.4395 - acc: 0.9615 - val_loss: 1.7412 - val_acc: 0.5738\n",
      "Epoch 13/20\n",
      "0s - loss: 21.1051 - acc: 1.0000 - val_loss: 1.6101 - val_acc: 0.6086\n",
      "Epoch 14/20\n",
      "0s - loss: 19.8550 - acc: 0.9615 - val_loss: 1.7995 - val_acc: 0.5473\n",
      "Epoch 15/20\n",
      "0s - loss: 18.7096 - acc: 1.0000 - val_loss: 1.5141 - val_acc: 0.6313\n",
      "Epoch 16/20\n",
      "0s - loss: 17.5788 - acc: 1.0000 - val_loss: 1.4968 - val_acc: 0.6321\n",
      "Epoch 17/20\n",
      "0s - loss: 16.5710 - acc: 0.9615 - val_loss: 1.4491 - val_acc: 0.6450\n",
      "Epoch 18/20\n",
      "0s - loss: 15.5841 - acc: 1.0000 - val_loss: 1.4158 - val_acc: 0.6510\n",
      "Epoch 19/20\n",
      "0s - loss: 14.6764 - acc: 1.0000 - val_loss: 1.4387 - val_acc: 0.6404\n",
      "Epoch 20/20\n",
      "0s - loss: 13.8360 - acc: 1.0000 - val_loss: 1.4603 - val_acc: 0.6450\n",
      "Test set loss:  1.46838005278\n",
      "Test set accuracy:  0.628888888889\n"
     ]
    },
    {
     "data": {
      "image/png": "[encoded data removed]",
      "text/plain": [
       "<matplotlib.figure.Figure at 0x114b2fe90>"
      ]
     },
     "metadata": {},
     "output_type": "display_data"
    }
   ],
   "source": [
    "# Add L2 weight regularization\n",
    "from keras.regularizers import l2\n",
    "\n",
    "model2 = Sequential()\n",
    "model2.add(Dense(32, input_dim=64, W_regularizer=l2(0.8)))\n",
    "model2.add(Activation('relu'))\n",
    "model2.add(Dense(10, W_regularizer=l2(0.8)))\n",
    "model2.add(Activation('softmax'))\n",
    "\n",
    "sgd = SGD(lr=0.01)\n",
    "model2.compile(loss='categorical_crossentropy',\n",
    "               optimizer=sgd,\n",
    "               metrics=['accuracy'])\n",
    "\n",
    "history2 = model2.fit(X_train, y_train, nb_epoch=20,\n",
    "                      batch_size=16, verbose=2,\n",
    "                      validation_split=0.98)\n",
    "\n",
    "result = model2.evaluate(X_test, y_test, verbose=0)\n",
    "print 'Test set loss: ', result[0]\n",
    "print 'Test set accuracy: ', result[1]\n",
    "\n",
    "plot_loss(history2, val=True)\n",
    "\n",
    "# Note that it can happen that the validation loss is lower by\n",
    "# chance, which is the case below. But it is clear that the model\n",
    "# is not overfitting.\n"
   ]
  },
  {
   "cell_type": "markdown",
   "metadata": {},
   "source": [
    "## 3. Dropout regularization\n",
    "\n",
    "- - -\n",
    "### Exercise 3 - Add Dropout\n",
    "\n",
    "We are using more data and training for longer in the snippet below, but otherwise the model is the same. Run it before modification to see it's behavior.\n",
    "\n",
    "Refer to the [documentation](http://keras.io/layers/core/#dropout) to add dropout on the hidden layer on the model below.\n",
    "\n",
    "You should be able to find a dropout parameter that virtually eliminates overfitting as seen in the loss plot. As usually, doing multiple experiments is the best way to build intuition.\n",
    "\n",
    "Note: In this example, since we are not overfitting particularly badly, you might not see noticeable improvement on the test accuracy. Since dropout zeros out activations, it would take more epoch for each weight to get the same number of gradient updates as without dropout.\n",
    "- - -"
   ]
  },
  {
   "cell_type": "code",
   "execution_count": 8,
   "metadata": {
    "collapsed": false
   },
   "outputs": [
    {
     "name": "stdout",
     "output_type": "stream",
     "text": [
      "Test set loss:  0.562372985913\n",
      "Test set accuracy:  0.853333333333\n"
     ]
    },
    {
     "data": {
      "image/png": "[encoded data removed]",
      "text/plain": [
       "<matplotlib.figure.Figure at 0x11380c450>"
      ]
     },
     "metadata": {},
     "output_type": "display_data"
    }
   ],
   "source": [
    "# Add dropout on the hidden layer\n",
    "model3 = Sequential()\n",
    "model3.add(Dense(32, input_dim=64))\n",
    "model3.add(Activation('relu'))\n",
    "\n",
    "model3.add(Dropout(0.5))\n",
    "\n",
    "model3.add(Dense(10))\n",
    "model3.add(Activation('softmax'))\n",
    "\n",
    "sgd = SGD(lr=0.01)\n",
    "model3.compile(loss='categorical_crossentropy',\n",
    "               optimizer=sgd,\n",
    "               metrics=['accuracy'])\n",
    "\n",
    "history3 = model3.fit(X_train, y_train, nb_epoch=60,\n",
    "                      batch_size=16, verbose=0,\n",
    "                      validation_split=0.9)\n",
    "\n",
    "result = model3.evaluate(X_test, y_test, verbose=0)\n",
    "print 'Test set loss: ', result[0]\n",
    "print 'Test set accuracy: ', result[1]\n",
    "\n",
    "\n",
    "plot_loss(history3, val=True)"
   ]
  }
 ],
 "metadata": {
  "kernelspec": {
   "display_name": "Python [default]",
   "language": "python",
   "name": "python2"
  },
  "language_info": {
   "codemirror_mode": {
    "name": "ipython",
    "version": 2
   },
   "file_extension": ".py",
   "mimetype": "text/x-python",
   "name": "python",
   "nbconvert_exporter": "python",
   "pygments_lexer": "ipython2",
   "version": "2.7.13"
  }
 },
 "nbformat": 4,
 "nbformat_minor": 0
}
