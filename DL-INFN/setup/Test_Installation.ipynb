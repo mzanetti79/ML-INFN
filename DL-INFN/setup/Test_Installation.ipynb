{
 "cells": [
  {
   "cell_type": "code",
   "execution_count": 1,
   "metadata": {
    "collapsed": false
   },
   "outputs": [
    {
     "name": "stderr",
     "output_type": "stream",
     "text": [
      "Using TensorFlow backend.\n",
      "/Users/francescomosconi/anaconda/envs/test/lib/python2.7/site-packages/keras/utils/np_utils.py:14: VisibleDeprecationWarning: using a non-integer number instead of an integer will result in an error in the future\n",
      "  Y = np.zeros((len(y), nb_classes))\n",
      "/Users/francescomosconi/anaconda/envs/test/lib/python2.7/site-packages/keras/utils/np_utils.py:16: VisibleDeprecationWarning: using a non-integer number instead of an integer will result in an error in the future\n",
      "  Y[i, y[i]] = 1.\n"
     ]
    },
    {
     "data": {
      "image/png": "[encoded data removed]",
      "text/plain": [
       "<matplotlib.figure.Figure at 0x10c6e0110>"
      ]
     },
     "metadata": {},
     "output_type": "display_data"
    },
    {
     "name": "stdout",
     "output_type": "stream",
     "text": [
      "Epoch 1/20\n",
      "75/75 [==============================] - 0s - loss: 0.2452 - acc: 0.6133     \n",
      "Epoch 2/20\n",
      "75/75 [==============================] - 0s - loss: 0.2298 - acc: 0.6667     \n",
      "Epoch 3/20\n",
      "75/75 [==============================] - 0s - loss: 0.2164 - acc: 0.7200     \n",
      "Epoch 4/20\n",
      "75/75 [==============================] - 0s - loss: 0.2049 - acc: 0.7867     \n",
      "Epoch 5/20\n",
      "75/75 [==============================] - 0s - loss: 0.1950 - acc: 0.8000     \n",
      "Epoch 6/20\n",
      "75/75 [==============================] - 0s - loss: 0.1860 - acc: 0.8533     \n",
      "Epoch 7/20\n",
      "75/75 [==============================] - 0s - loss: 0.1780 - acc: 0.8933     \n",
      "Epoch 8/20\n",
      "75/75 [==============================] - 0s - loss: 0.1711 - acc: 0.8933     \n",
      "Epoch 9/20\n",
      "75/75 [==============================] - 0s - loss: 0.1631 - acc: 0.9067     \n",
      "Epoch 10/20\n",
      "75/75 [==============================] - 0s - loss: 0.1566 - acc: 0.9333     \n",
      "Epoch 11/20\n",
      "75/75 [==============================] - 0s - loss: 0.1511 - acc: 0.9200     \n",
      "Epoch 12/20\n",
      "75/75 [==============================] - 0s - loss: 0.1458 - acc: 0.9333     \n",
      "Epoch 13/20\n",
      "75/75 [==============================] - 0s - loss: 0.1409 - acc: 0.9333     \n",
      "Epoch 14/20\n",
      "75/75 [==============================] - 0s - loss: 0.1374 - acc: 0.9333     \n",
      "Epoch 15/20\n",
      "75/75 [==============================] - 0s - loss: 0.1324 - acc: 0.9333     \n",
      "Epoch 16/20\n",
      "75/75 [==============================] - 0s - loss: 0.1285 - acc: 0.9333     \n",
      "Epoch 17/20\n",
      "75/75 [==============================] - 0s - loss: 0.1249 - acc: 0.9333     \n",
      "Epoch 18/20\n",
      "75/75 [==============================] - 0s - loss: 0.1216 - acc: 0.9333     \n",
      "Epoch 19/20\n",
      "75/75 [==============================] - 0s - loss: 0.1185 - acc: 0.9333     \n",
      "Epoch 20/20\n",
      "75/75 [==============================] - 0s - loss: 0.1158 - acc: 0.9333     \n",
      "25/25 [==============================] - 0s     \n",
      "[0.11120348811149597, 0.95999999999999996]\n"
     ]
    }
   ],
   "source": [
    "%matplotlib inline\n",
    "\n",
    "import numpy as np\n",
    "import matplotlib.pyplot as plt\n",
    "from sklearn.cross_validation import train_test_split\n",
    "\n",
    "from keras.models import Sequential\n",
    "from keras.layers import Dense, Activation\n",
    "from keras.optimizers import SGD\n",
    "from keras.utils import np_utils\n",
    "\n",
    "\n",
    "def generate_separable_dataset(num=(50, 50)):\n",
    "    a = np.random.multivariate_normal([.2, .2], [[.05, 0], [0, .05]], num[0])\n",
    "    b = np.random.multivariate_normal([.8, .8], [[.05, 0], [0, .05]], num[1])\n",
    "    X = np.vstack((a, b))\n",
    "    labels = np.hstack((np.zeros(50), np.ones(50)))\n",
    "    return X, np_utils.to_categorical(labels)\n",
    "\n",
    "X, y = generate_separable_dataset()\n",
    "plt.scatter(X[:,0], X[:,1], c=y[:,0], alpha=0.4)\n",
    "plt.show()\n",
    "\n",
    "\n",
    "model = Sequential()\n",
    "model.add(Dense(2, input_dim=2, init='uniform'))\n",
    "model.add(Activation('softmax'))\n",
    "sgd = SGD(lr=0.2)\n",
    "model.compile(loss='mean_squared_error', optimizer=sgd, metrics=[\"accuracy\"])\n",
    "\n",
    "\n",
    "X_train, X_test, y_train, y_test = train_test_split(X, y)\n",
    "\n",
    "model.fit(X_train, y_train, nb_epoch=20, batch_size=16)\n",
    "print model.evaluate(X_test, y_test, batch_size=16)\n",
    "\n"
   ]
  },
  {
   "cell_type": "code",
   "execution_count": null,
   "metadata": {
    "collapsed": true
   },
   "outputs": [],
   "source": []
  }
 ],
 "metadata": {
  "kernelspec": {
   "display_name": "Python 2",
   "language": "python",
   "name": "python2"
  },
  "language_info": {
   "codemirror_mode": {
    "name": "ipython",
    "version": 2
   },
   "file_extension": ".py",
   "mimetype": "text/x-python",
   "name": "python",
   "nbconvert_exporter": "python",
   "pygments_lexer": "ipython2",
   "version": "2.7.11"
  }
 },
 "nbformat": 4,
 "nbformat_minor": 0
}
