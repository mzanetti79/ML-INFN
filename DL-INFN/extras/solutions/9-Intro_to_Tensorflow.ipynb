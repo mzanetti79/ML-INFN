{
 "cells": [
  {
   "cell_type": "markdown",
   "metadata": {},
   "source": [
    "# Intro to Tensorflow\n",
    "\n",
    "[Tensorflow](https://www.tensorflow.org/) is an open-source machine learning library from Google. We have been using it as the backend for Keras. It is a very powerful library that allows you to design and build entirely new machine learning models. It is also design for large-scale and production use-cases, while Keras focuses more on quick prototyping and testing ideas. Here we introduce the basic ideas of Tensorflow by implementing a simple MLP model for MNIST - we've already seen the Keras equivalent."
   ]
  },
  {
   "cell_type": "code",
   "execution_count": 1,
   "metadata": {
    "collapsed": false
   },
   "outputs": [],
   "source": [
    "%matplotlib inline\n",
    "\n",
    "import matplotlib.pyplot as plt\n",
    "import numpy as np\n",
    "import tensorflow as tf\n",
    "from keras.datasets import mnist\n",
    "from keras.utils import np_utils\n",
    "\n",
    "(X_train, y_train), (X_test, y_test) = mnist.load_data()\n",
    "\n",
    "X_train = X_train.reshape(60000, 784)\n",
    "X_test = X_test.reshape(10000, 784)\n",
    "X_train = X_train.astype('float32')\n",
    "X_test = X_test.astype('float32')\n",
    "X_train /= 255\n",
    "X_test /= 255\n",
    "\n",
    "y_train = np_utils.to_categorical(y_train, 10)\n",
    "y_test = np_utils.to_categorical(y_test, 10)"
   ]
  },
  {
   "cell_type": "markdown",
   "metadata": {},
   "source": [
    "Tensorflow is a lower level library: there is much more code to write to create a model than in Keras because of this. But it also means you have a massive amount of flexibility. Below is a simple model for MNIST with a single hidden layer."
   ]
  },
  {
   "cell_type": "code",
   "execution_count": 20,
   "metadata": {
    "collapsed": false
   },
   "outputs": [],
   "source": [
    "graph = tf.Graph()\n",
    "with graph.as_default():\n",
    "    \n",
    "    # Placeholders tell Tensorflow that we will provide this data\n",
    "    # later when we run the model.\n",
    "    x = tf.placeholder(tf.float32, shape=[None, 784]) # input data\n",
    "    y_ = tf.placeholder(tf.float32, shape=[None, 10]) # one-hot labels\n",
    "\n",
    "    # We need to make our variables explicitly\n",
    "    W0 = tf.Variable(tf.truncated_normal([784, 10], stddev=0.1), name='W0')\n",
    "    bias0 = tf.Variable(tf.zeros([10]), name='bias0')\n",
    "\n",
    "    # We write layers as we would mathematically\n",
    "    y = tf.nn.softmax(tf.matmul(x, W0) + bias0)\n",
    "    \n",
    "    # Cross entropy loss\n",
    "    cross_entropy = tf.reduce_mean(-tf.reduce_sum(y_ * tf.log(y), reduction_indices=[1]))\n",
    "\n",
    "    # Gradient step, 0.5 learning rate\n",
    "    train_step = tf.train.GradientDescentOptimizer(0.5).minimize(cross_entropy)\n",
    "    \n",
    "    # Compute accuracy on batch\n",
    "    prediction = tf.argmax(y, 1)\n",
    "    groundtruth = tf.argmax(y_, 1)\n",
    "    same = tf.equal(prediction, groundtruth)\n",
    "    accuracy = tf.reduce_mean(tf.cast(same, tf.float32))\n",
    "    \n",
    "    # Op to init variables\n",
    "    init = tf.initialize_all_variables()\n"
   ]
  },
  {
   "cell_type": "markdown",
   "metadata": {},
   "source": [
    "After defining a graph of operations that implements the computation in the model, we can run this graph by creating a Session. Sessions manage the execution of the graph. Below we create a Session and run gradient descent."
   ]
  },
  {
   "cell_type": "code",
   "execution_count": 21,
   "metadata": {
    "collapsed": false
   },
   "outputs": [
    {
     "name": "stdout",
     "output_type": "stream",
     "text": [
      "Loss:  1.87679    Accuracy:  0.375\n",
      "Loss:  0.215099    Accuracy:  0.9375\n",
      "Loss:  0.337602    Accuracy:  0.890625\n",
      "Loss:  0.285959    Accuracy:  0.90625\n",
      "Loss:  0.324795    Accuracy:  0.929688\n"
     ]
    }
   ],
   "source": [
    "sess = tf.Session(graph=graph)\n",
    "\n",
    "# Initialize variables\n",
    "sess.run(init)\n",
    "\n",
    "batch_size = 128\n",
    "num_steps = 1000\n",
    "\n",
    "batch_start = 0\n",
    "for i in range(num_steps):\n",
    "\n",
    "    # Get a batch of data\n",
    "    X_batch = X_train[batch_start:batch_start + batch_size, :]\n",
    "    y_batch = y_train[batch_start:batch_start + batch_size, :]\n",
    "\n",
    "    batch_start += batch_size\n",
    "    if batch_start > X_train.shape[0] - batch_size:\n",
    "        batch_start = 0\n",
    "    \n",
    "    # Run the optimizer operation to take a gradient step\n",
    "    sess.run(train_step, feed_dict={x: X_batch, y_: y_batch})\n",
    "    \n",
    "    # Print out accuracy and loss\n",
    "    if not i % 200:\n",
    "        loss, acc = sess.run([cross_entropy, accuracy],\n",
    "                             feed_dict={x: X_batch, y_: y_batch})\n",
    "        print 'Loss: ', loss, '   Accuracy: ', acc"
   ]
  },
  {
   "cell_type": "markdown",
   "metadata": {},
   "source": [
    "Finally, we can compute the accuracy on the test data."
   ]
  },
  {
   "cell_type": "code",
   "execution_count": 22,
   "metadata": {
    "collapsed": false
   },
   "outputs": [
    {
     "name": "stdout",
     "output_type": "stream",
     "text": [
      "Test accuracy:  0.9138\n"
     ]
    }
   ],
   "source": [
    "print 'Test accuracy: ', sess.run(accuracy, feed_dict={ x: X_test, y_: y_test })"
   ]
  },
  {
   "cell_type": "markdown",
   "metadata": {},
   "source": [
    "- - -\n",
    "### Exercise 1 - Add a hidden layer\n",
    "\n",
    "Copy the model and training code from above and add a ReLU hidden layer before the softmax. Train this deep model. With a good choice for the hidden layer size, you should get over 95% accuracy and higher if you train longer.\n",
    "- - -"
   ]
  },
  {
   "cell_type": "code",
   "execution_count": 23,
   "metadata": {
    "collapsed": false
   },
   "outputs": [
    {
     "name": "stdout",
     "output_type": "stream",
     "text": [
      "Loss:  5.56055    Accuracy:  0.28125\n",
      "Loss:  0.0990738    Accuracy:  0.992188\n",
      "Loss:  0.106638    Accuracy:  0.96875\n",
      "Loss:  0.0585083    Accuracy:  0.984375\n",
      "Loss:  0.0658509    Accuracy:  0.984375\n",
      "Test accuracy:  0.9684\n"
     ]
    }
   ],
   "source": [
    "graph = tf.Graph()\n",
    "with graph.as_default():\n",
    "    \n",
    "    # Placeholders tell Tensorflow that we will provide this data\n",
    "    # later when we run the model.\n",
    "    x = tf.placeholder(tf.float32, shape=[None, 784]) # input data\n",
    "    y_ = tf.placeholder(tf.float32, shape=[None, 10]) # one-hot labels\n",
    "\n",
    "    # We need to make our variables explicitly\n",
    "    W0 = tf.Variable(tf.truncated_normal([784, 512], stddev=0.1), name='W0')\n",
    "    bias0 = tf.Variable(tf.zeros([512]), name='bias0')\n",
    "\n",
    "    # We can write layers as we would mathematically\n",
    "    hidden = tf.nn.relu(tf.matmul(x, W0) + bias0)\n",
    "    \n",
    "    # Next layer weights\n",
    "    W1 = tf.Variable(tf.truncated_normal([512, 10], stddev=0.1), name='W1')\n",
    "    bias1 = tf.Variable(tf.zeros([10]), name='bias1')\n",
    "    \n",
    "    # Softmax\n",
    "    y = tf.nn.softmax(tf.matmul(hidden, W1) + bias1)\n",
    "    \n",
    "    # Cross entropy loss\n",
    "    cross_entropy = tf.reduce_mean(-tf.reduce_sum(y_ * tf.log(y), reduction_indices=[1]))\n",
    "\n",
    "    # Gradient step\n",
    "    train_step = tf.train.GradientDescentOptimizer(0.5).minimize(cross_entropy)\n",
    "    \n",
    "    # Compute accuracy on batch\n",
    "    prediction = tf.argmax(y, 1)\n",
    "    groundtruth = tf.argmax(y_, 1)\n",
    "    same = tf.equal(prediction, groundtruth)\n",
    "    accuracy = tf.reduce_mean(tf.cast(same, tf.float32))\n",
    "    \n",
    "    # Op to init variables\n",
    "    init = tf.initialize_all_variables()\n",
    "\n",
    "\n",
    "sess = tf.Session(graph=graph)\n",
    "\n",
    "# Initialize variables\n",
    "sess.run(init)\n",
    "\n",
    "batch_size = 128\n",
    "num_steps = 1000\n",
    "\n",
    "batch_start = 0\n",
    "for i in range(num_steps):\n",
    "\n",
    "    # Get a batch of data\n",
    "    X_batch = X_train[batch_start:batch_start + batch_size, :]\n",
    "    y_batch = y_train[batch_start:batch_start + batch_size, :]\n",
    "\n",
    "    batch_start += batch_size\n",
    "    if batch_start > X_train.shape[0] - batch_size:\n",
    "        batch_start = 0\n",
    "    \n",
    "    # Run the optimizer operation to take a gradient step\n",
    "    sess.run(train_step, feed_dict={x: X_batch, y_: y_batch})\n",
    "    \n",
    "    # Print out accuracy and loss\n",
    "    if not i % 200:\n",
    "        loss, acc = sess.run([cross_entropy, accuracy],\n",
    "                             feed_dict={x: X_batch, y_: y_batch})\n",
    "        print 'Loss: ', loss, '   Accuracy: ', acc\n",
    "        \n",
    "print 'Test accuracy: ', sess.run(accuracy, feed_dict={ x: X_test, y_: y_test })"
   ]
  }
 ],
 "metadata": {
  "kernelspec": {
   "display_name": "Python 2",
   "language": "python",
   "name": "python2"
  },
  "language_info": {
   "codemirror_mode": {
    "name": "ipython",
    "version": 2
   },
   "file_extension": ".py",
   "mimetype": "text/x-python",
   "name": "python",
   "nbconvert_exporter": "python",
   "pygments_lexer": "ipython2",
   "version": "2.7.11"
  }
 },
 "nbformat": 4,
 "nbformat_minor": 0
}
